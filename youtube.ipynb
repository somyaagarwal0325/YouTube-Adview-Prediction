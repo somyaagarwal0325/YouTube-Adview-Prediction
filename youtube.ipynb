{
  "cells": [
    {
      "cell_type": "code",
      "execution_count": 1,
      "metadata": {
        "id": "WrBDj8XLmbxU"
      },
      "outputs": [],
      "source": [
        "import numpy as np\n",
        "import pandas as pd\n",
        "import seaborn as sns\n",
        "import matplotlib.pyplot as plt"
      ]
    },
    {
      "cell_type": "code",
      "execution_count": 2,
      "metadata": {
        "id": "FKRF6TbFncml"
      },
      "outputs": [],
      "source": [
        "data_train = pd.read_csv ('train.csv')"
      ]
    },
    {
      "cell_type": "code",
      "execution_count": 3,
      "metadata": {
        "colab": {
          "base_uri": "https://localhost:8080/",
          "height": 206
        },
        "id": "ppYSA7Mjnue9",
        "outputId": "2d295314-0983-4c93-bfae-8fd490610572"
      },
      "outputs": [
        {
          "output_type": "execute_result",
          "data": {
            "text/plain": [
              "       vidid  adview    views likes dislikes comment   published duration  \\\n",
              "0  VID_18655      40  1031602  8523      363    1095  2016-09-14  PT7M37S   \n",
              "1  VID_14135       2     1707    56        2       6  2016-10-01  PT9M30S   \n",
              "2   VID_2187       1     2023    25        0       2  2016-07-02  PT2M16S   \n",
              "3  VID_23096       6   620860   777      161     153  2016-07-27  PT4M22S   \n",
              "4  VID_10175       1      666     1        0       0  2016-06-29    PT31S   \n",
              "\n",
              "  category  \n",
              "0        F  \n",
              "1        D  \n",
              "2        C  \n",
              "3        H  \n",
              "4        D  "
            ],
            "text/html": [
              "\n",
              "  <div id=\"df-529163bf-3f7c-43d2-82cf-10553ef9f3be\">\n",
              "    <div class=\"colab-df-container\">\n",
              "      <div>\n",
              "<style scoped>\n",
              "    .dataframe tbody tr th:only-of-type {\n",
              "        vertical-align: middle;\n",
              "    }\n",
              "\n",
              "    .dataframe tbody tr th {\n",
              "        vertical-align: top;\n",
              "    }\n",
              "\n",
              "    .dataframe thead th {\n",
              "        text-align: right;\n",
              "    }\n",
              "</style>\n",
              "<table border=\"1\" class=\"dataframe\">\n",
              "  <thead>\n",
              "    <tr style=\"text-align: right;\">\n",
              "      <th></th>\n",
              "      <th>vidid</th>\n",
              "      <th>adview</th>\n",
              "      <th>views</th>\n",
              "      <th>likes</th>\n",
              "      <th>dislikes</th>\n",
              "      <th>comment</th>\n",
              "      <th>published</th>\n",
              "      <th>duration</th>\n",
              "      <th>category</th>\n",
              "    </tr>\n",
              "  </thead>\n",
              "  <tbody>\n",
              "    <tr>\n",
              "      <th>0</th>\n",
              "      <td>VID_18655</td>\n",
              "      <td>40</td>\n",
              "      <td>1031602</td>\n",
              "      <td>8523</td>\n",
              "      <td>363</td>\n",
              "      <td>1095</td>\n",
              "      <td>2016-09-14</td>\n",
              "      <td>PT7M37S</td>\n",
              "      <td>F</td>\n",
              "    </tr>\n",
              "    <tr>\n",
              "      <th>1</th>\n",
              "      <td>VID_14135</td>\n",
              "      <td>2</td>\n",
              "      <td>1707</td>\n",
              "      <td>56</td>\n",
              "      <td>2</td>\n",
              "      <td>6</td>\n",
              "      <td>2016-10-01</td>\n",
              "      <td>PT9M30S</td>\n",
              "      <td>D</td>\n",
              "    </tr>\n",
              "    <tr>\n",
              "      <th>2</th>\n",
              "      <td>VID_2187</td>\n",
              "      <td>1</td>\n",
              "      <td>2023</td>\n",
              "      <td>25</td>\n",
              "      <td>0</td>\n",
              "      <td>2</td>\n",
              "      <td>2016-07-02</td>\n",
              "      <td>PT2M16S</td>\n",
              "      <td>C</td>\n",
              "    </tr>\n",
              "    <tr>\n",
              "      <th>3</th>\n",
              "      <td>VID_23096</td>\n",
              "      <td>6</td>\n",
              "      <td>620860</td>\n",
              "      <td>777</td>\n",
              "      <td>161</td>\n",
              "      <td>153</td>\n",
              "      <td>2016-07-27</td>\n",
              "      <td>PT4M22S</td>\n",
              "      <td>H</td>\n",
              "    </tr>\n",
              "    <tr>\n",
              "      <th>4</th>\n",
              "      <td>VID_10175</td>\n",
              "      <td>1</td>\n",
              "      <td>666</td>\n",
              "      <td>1</td>\n",
              "      <td>0</td>\n",
              "      <td>0</td>\n",
              "      <td>2016-06-29</td>\n",
              "      <td>PT31S</td>\n",
              "      <td>D</td>\n",
              "    </tr>\n",
              "  </tbody>\n",
              "</table>\n",
              "</div>\n",
              "      <button class=\"colab-df-convert\" onclick=\"convertToInteractive('df-529163bf-3f7c-43d2-82cf-10553ef9f3be')\"\n",
              "              title=\"Convert this dataframe to an interactive table.\"\n",
              "              style=\"display:none;\">\n",
              "        \n",
              "  <svg xmlns=\"http://www.w3.org/2000/svg\" height=\"24px\"viewBox=\"0 0 24 24\"\n",
              "       width=\"24px\">\n",
              "    <path d=\"M0 0h24v24H0V0z\" fill=\"none\"/>\n",
              "    <path d=\"M18.56 5.44l.94 2.06.94-2.06 2.06-.94-2.06-.94-.94-2.06-.94 2.06-2.06.94zm-11 1L8.5 8.5l.94-2.06 2.06-.94-2.06-.94L8.5 2.5l-.94 2.06-2.06.94zm10 10l.94 2.06.94-2.06 2.06-.94-2.06-.94-.94-2.06-.94 2.06-2.06.94z\"/><path d=\"M17.41 7.96l-1.37-1.37c-.4-.4-.92-.59-1.43-.59-.52 0-1.04.2-1.43.59L10.3 9.45l-7.72 7.72c-.78.78-.78 2.05 0 2.83L4 21.41c.39.39.9.59 1.41.59.51 0 1.02-.2 1.41-.59l7.78-7.78 2.81-2.81c.8-.78.8-2.07 0-2.86zM5.41 20L4 18.59l7.72-7.72 1.47 1.35L5.41 20z\"/>\n",
              "  </svg>\n",
              "      </button>\n",
              "      \n",
              "  <style>\n",
              "    .colab-df-container {\n",
              "      display:flex;\n",
              "      flex-wrap:wrap;\n",
              "      gap: 12px;\n",
              "    }\n",
              "\n",
              "    .colab-df-convert {\n",
              "      background-color: #E8F0FE;\n",
              "      border: none;\n",
              "      border-radius: 50%;\n",
              "      cursor: pointer;\n",
              "      display: none;\n",
              "      fill: #1967D2;\n",
              "      height: 32px;\n",
              "      padding: 0 0 0 0;\n",
              "      width: 32px;\n",
              "    }\n",
              "\n",
              "    .colab-df-convert:hover {\n",
              "      background-color: #E2EBFA;\n",
              "      box-shadow: 0px 1px 2px rgba(60, 64, 67, 0.3), 0px 1px 3px 1px rgba(60, 64, 67, 0.15);\n",
              "      fill: #174EA6;\n",
              "    }\n",
              "\n",
              "    [theme=dark] .colab-df-convert {\n",
              "      background-color: #3B4455;\n",
              "      fill: #D2E3FC;\n",
              "    }\n",
              "\n",
              "    [theme=dark] .colab-df-convert:hover {\n",
              "      background-color: #434B5C;\n",
              "      box-shadow: 0px 1px 3px 1px rgba(0, 0, 0, 0.15);\n",
              "      filter: drop-shadow(0px 1px 2px rgba(0, 0, 0, 0.3));\n",
              "      fill: #FFFFFF;\n",
              "    }\n",
              "  </style>\n",
              "\n",
              "      <script>\n",
              "        const buttonEl =\n",
              "          document.querySelector('#df-529163bf-3f7c-43d2-82cf-10553ef9f3be button.colab-df-convert');\n",
              "        buttonEl.style.display =\n",
              "          google.colab.kernel.accessAllowed ? 'block' : 'none';\n",
              "\n",
              "        async function convertToInteractive(key) {\n",
              "          const element = document.querySelector('#df-529163bf-3f7c-43d2-82cf-10553ef9f3be');\n",
              "          const dataTable =\n",
              "            await google.colab.kernel.invokeFunction('convertToInteractive',\n",
              "                                                     [key], {});\n",
              "          if (!dataTable) return;\n",
              "\n",
              "          const docLinkHtml = 'Like what you see? Visit the ' +\n",
              "            '<a target=\"_blank\" href=https://colab.research.google.com/notebooks/data_table.ipynb>data table notebook</a>'\n",
              "            + ' to learn more about interactive tables.';\n",
              "          element.innerHTML = '';\n",
              "          dataTable['output_type'] = 'display_data';\n",
              "          await google.colab.output.renderOutput(dataTable, element);\n",
              "          const docLink = document.createElement('div');\n",
              "          docLink.innerHTML = docLinkHtml;\n",
              "          element.appendChild(docLink);\n",
              "        }\n",
              "      </script>\n",
              "    </div>\n",
              "  </div>\n",
              "  "
            ]
          },
          "metadata": {},
          "execution_count": 3
        }
      ],
      "source": [
        "data_train.head()"
      ]
    },
    {
      "cell_type": "code",
      "execution_count": 4,
      "metadata": {
        "colab": {
          "base_uri": "https://localhost:8080/"
        },
        "id": "FYB5jsFpqcZz",
        "outputId": "b0f3c319-dd86-4d9d-9747-051b602eca33"
      },
      "outputs": [
        {
          "output_type": "stream",
          "name": "stdout",
          "text": [
            "<class 'pandas.core.frame.DataFrame'>\n",
            "RangeIndex: 14999 entries, 0 to 14998\n",
            "Data columns (total 9 columns):\n",
            " #   Column     Non-Null Count  Dtype \n",
            "---  ------     --------------  ----- \n",
            " 0   vidid      14999 non-null  object\n",
            " 1   adview     14999 non-null  int64 \n",
            " 2   views      14999 non-null  object\n",
            " 3   likes      14999 non-null  object\n",
            " 4   dislikes   14999 non-null  object\n",
            " 5   comment    14999 non-null  object\n",
            " 6   published  14999 non-null  object\n",
            " 7   duration   14999 non-null  object\n",
            " 8   category   14999 non-null  object\n",
            "dtypes: int64(1), object(8)\n",
            "memory usage: 1.0+ MB\n"
          ]
        }
      ],
      "source": [
        "data_train.info()"
      ]
    },
    {
      "cell_type": "code",
      "execution_count": 5,
      "metadata": {
        "id": "FvZKyqrtnxMV"
      },
      "outputs": [],
      "source": [
        "from sklearn import preprocessing\n",
        "le = preprocessing.LabelEncoder()\n",
        "data_train[\"category\"]=le.fit_transform(data_train[\"category\"])"
      ]
    },
    {
      "cell_type": "code",
      "execution_count": 6,
      "metadata": {
        "colab": {
          "base_uri": "https://localhost:8080/",
          "height": 206
        },
        "id": "anfJmopvoTj6",
        "outputId": "36bd8d1f-69a5-430b-92b7-dfe14d4ed7e2"
      },
      "outputs": [
        {
          "output_type": "execute_result",
          "data": {
            "text/plain": [
              "       vidid  adview    views likes dislikes comment   published duration  \\\n",
              "0  VID_18655      40  1031602  8523      363    1095  2016-09-14  PT7M37S   \n",
              "1  VID_14135       2     1707    56        2       6  2016-10-01  PT9M30S   \n",
              "2   VID_2187       1     2023    25        0       2  2016-07-02  PT2M16S   \n",
              "3  VID_23096       6   620860   777      161     153  2016-07-27  PT4M22S   \n",
              "4  VID_10175       1      666     1        0       0  2016-06-29    PT31S   \n",
              "\n",
              "   category  \n",
              "0         5  \n",
              "1         3  \n",
              "2         2  \n",
              "3         7  \n",
              "4         3  "
            ],
            "text/html": [
              "\n",
              "  <div id=\"df-1331cd66-2ca2-47f9-a8e2-eb81c709c7ba\">\n",
              "    <div class=\"colab-df-container\">\n",
              "      <div>\n",
              "<style scoped>\n",
              "    .dataframe tbody tr th:only-of-type {\n",
              "        vertical-align: middle;\n",
              "    }\n",
              "\n",
              "    .dataframe tbody tr th {\n",
              "        vertical-align: top;\n",
              "    }\n",
              "\n",
              "    .dataframe thead th {\n",
              "        text-align: right;\n",
              "    }\n",
              "</style>\n",
              "<table border=\"1\" class=\"dataframe\">\n",
              "  <thead>\n",
              "    <tr style=\"text-align: right;\">\n",
              "      <th></th>\n",
              "      <th>vidid</th>\n",
              "      <th>adview</th>\n",
              "      <th>views</th>\n",
              "      <th>likes</th>\n",
              "      <th>dislikes</th>\n",
              "      <th>comment</th>\n",
              "      <th>published</th>\n",
              "      <th>duration</th>\n",
              "      <th>category</th>\n",
              "    </tr>\n",
              "  </thead>\n",
              "  <tbody>\n",
              "    <tr>\n",
              "      <th>0</th>\n",
              "      <td>VID_18655</td>\n",
              "      <td>40</td>\n",
              "      <td>1031602</td>\n",
              "      <td>8523</td>\n",
              "      <td>363</td>\n",
              "      <td>1095</td>\n",
              "      <td>2016-09-14</td>\n",
              "      <td>PT7M37S</td>\n",
              "      <td>5</td>\n",
              "    </tr>\n",
              "    <tr>\n",
              "      <th>1</th>\n",
              "      <td>VID_14135</td>\n",
              "      <td>2</td>\n",
              "      <td>1707</td>\n",
              "      <td>56</td>\n",
              "      <td>2</td>\n",
              "      <td>6</td>\n",
              "      <td>2016-10-01</td>\n",
              "      <td>PT9M30S</td>\n",
              "      <td>3</td>\n",
              "    </tr>\n",
              "    <tr>\n",
              "      <th>2</th>\n",
              "      <td>VID_2187</td>\n",
              "      <td>1</td>\n",
              "      <td>2023</td>\n",
              "      <td>25</td>\n",
              "      <td>0</td>\n",
              "      <td>2</td>\n",
              "      <td>2016-07-02</td>\n",
              "      <td>PT2M16S</td>\n",
              "      <td>2</td>\n",
              "    </tr>\n",
              "    <tr>\n",
              "      <th>3</th>\n",
              "      <td>VID_23096</td>\n",
              "      <td>6</td>\n",
              "      <td>620860</td>\n",
              "      <td>777</td>\n",
              "      <td>161</td>\n",
              "      <td>153</td>\n",
              "      <td>2016-07-27</td>\n",
              "      <td>PT4M22S</td>\n",
              "      <td>7</td>\n",
              "    </tr>\n",
              "    <tr>\n",
              "      <th>4</th>\n",
              "      <td>VID_10175</td>\n",
              "      <td>1</td>\n",
              "      <td>666</td>\n",
              "      <td>1</td>\n",
              "      <td>0</td>\n",
              "      <td>0</td>\n",
              "      <td>2016-06-29</td>\n",
              "      <td>PT31S</td>\n",
              "      <td>3</td>\n",
              "    </tr>\n",
              "  </tbody>\n",
              "</table>\n",
              "</div>\n",
              "      <button class=\"colab-df-convert\" onclick=\"convertToInteractive('df-1331cd66-2ca2-47f9-a8e2-eb81c709c7ba')\"\n",
              "              title=\"Convert this dataframe to an interactive table.\"\n",
              "              style=\"display:none;\">\n",
              "        \n",
              "  <svg xmlns=\"http://www.w3.org/2000/svg\" height=\"24px\"viewBox=\"0 0 24 24\"\n",
              "       width=\"24px\">\n",
              "    <path d=\"M0 0h24v24H0V0z\" fill=\"none\"/>\n",
              "    <path d=\"M18.56 5.44l.94 2.06.94-2.06 2.06-.94-2.06-.94-.94-2.06-.94 2.06-2.06.94zm-11 1L8.5 8.5l.94-2.06 2.06-.94-2.06-.94L8.5 2.5l-.94 2.06-2.06.94zm10 10l.94 2.06.94-2.06 2.06-.94-2.06-.94-.94-2.06-.94 2.06-2.06.94z\"/><path d=\"M17.41 7.96l-1.37-1.37c-.4-.4-.92-.59-1.43-.59-.52 0-1.04.2-1.43.59L10.3 9.45l-7.72 7.72c-.78.78-.78 2.05 0 2.83L4 21.41c.39.39.9.59 1.41.59.51 0 1.02-.2 1.41-.59l7.78-7.78 2.81-2.81c.8-.78.8-2.07 0-2.86zM5.41 20L4 18.59l7.72-7.72 1.47 1.35L5.41 20z\"/>\n",
              "  </svg>\n",
              "      </button>\n",
              "      \n",
              "  <style>\n",
              "    .colab-df-container {\n",
              "      display:flex;\n",
              "      flex-wrap:wrap;\n",
              "      gap: 12px;\n",
              "    }\n",
              "\n",
              "    .colab-df-convert {\n",
              "      background-color: #E8F0FE;\n",
              "      border: none;\n",
              "      border-radius: 50%;\n",
              "      cursor: pointer;\n",
              "      display: none;\n",
              "      fill: #1967D2;\n",
              "      height: 32px;\n",
              "      padding: 0 0 0 0;\n",
              "      width: 32px;\n",
              "    }\n",
              "\n",
              "    .colab-df-convert:hover {\n",
              "      background-color: #E2EBFA;\n",
              "      box-shadow: 0px 1px 2px rgba(60, 64, 67, 0.3), 0px 1px 3px 1px rgba(60, 64, 67, 0.15);\n",
              "      fill: #174EA6;\n",
              "    }\n",
              "\n",
              "    [theme=dark] .colab-df-convert {\n",
              "      background-color: #3B4455;\n",
              "      fill: #D2E3FC;\n",
              "    }\n",
              "\n",
              "    [theme=dark] .colab-df-convert:hover {\n",
              "      background-color: #434B5C;\n",
              "      box-shadow: 0px 1px 3px 1px rgba(0, 0, 0, 0.15);\n",
              "      filter: drop-shadow(0px 1px 2px rgba(0, 0, 0, 0.3));\n",
              "      fill: #FFFFFF;\n",
              "    }\n",
              "  </style>\n",
              "\n",
              "      <script>\n",
              "        const buttonEl =\n",
              "          document.querySelector('#df-1331cd66-2ca2-47f9-a8e2-eb81c709c7ba button.colab-df-convert');\n",
              "        buttonEl.style.display =\n",
              "          google.colab.kernel.accessAllowed ? 'block' : 'none';\n",
              "\n",
              "        async function convertToInteractive(key) {\n",
              "          const element = document.querySelector('#df-1331cd66-2ca2-47f9-a8e2-eb81c709c7ba');\n",
              "          const dataTable =\n",
              "            await google.colab.kernel.invokeFunction('convertToInteractive',\n",
              "                                                     [key], {});\n",
              "          if (!dataTable) return;\n",
              "\n",
              "          const docLinkHtml = 'Like what you see? Visit the ' +\n",
              "            '<a target=\"_blank\" href=https://colab.research.google.com/notebooks/data_table.ipynb>data table notebook</a>'\n",
              "            + ' to learn more about interactive tables.';\n",
              "          element.innerHTML = '';\n",
              "          dataTable['output_type'] = 'display_data';\n",
              "          await google.colab.output.renderOutput(dataTable, element);\n",
              "          const docLink = document.createElement('div');\n",
              "          docLink.innerHTML = docLinkHtml;\n",
              "          element.appendChild(docLink);\n",
              "        }\n",
              "      </script>\n",
              "    </div>\n",
              "  </div>\n",
              "  "
            ]
          },
          "metadata": {},
          "execution_count": 6
        }
      ],
      "source": [
        "data_train.head()"
      ]
    },
    {
      "cell_type": "code",
      "execution_count": 7,
      "metadata": {
        "id": "Dv2GwDjwoXU8"
      },
      "outputs": [],
      "source": [
        "data_train = data_train[data_train.views!='F']\n",
        "data_train = data_train[data_train.likes!='F']\n",
        "data_train = data_train[data_train.dislikes!='F']\n",
        "data_train = data_train[data_train.comment!='F']"
      ]
    },
    {
      "cell_type": "code",
      "execution_count": 8,
      "metadata": {
        "id": "CT3Ri1cGpdxs"
      },
      "outputs": [],
      "source": [
        "data_train['views'] = pd.to_numeric(data_train['views'])\n",
        "data_train['likes'] = pd.to_numeric(data_train['likes'])\n",
        "data_train['dislikes'] = pd.to_numeric(data_train['dislikes'])\n",
        "data_train['comment'] = pd.to_numeric(data_train['comment'])\n",
        "data_train['adview'] = pd.to_numeric(data_train['adview'])"
      ]
    },
    {
      "cell_type": "code",
      "execution_count": 9,
      "metadata": {
        "id": "hjFIPkNUqgl_"
      },
      "outputs": [],
      "source": [
        "column_vidid = data_train['vidid']"
      ]
    },
    {
      "cell_type": "code",
      "execution_count": 10,
      "metadata": {
        "id": "WYL8t0irqhqE"
      },
      "outputs": [],
      "source": [
        "data_train[\"vidid\"]=le.fit_transform(data_train[\"vidid\"])\n",
        "data_train[\"published\"]=le.fit_transform(data_train[\"published\"])"
      ]
    },
    {
      "cell_type": "code",
      "execution_count": 11,
      "metadata": {
        "colab": {
          "base_uri": "https://localhost:8080/",
          "height": 206
        },
        "id": "VqszlgdurKGj",
        "outputId": "4775d588-2de6-4a9e-a110-b4775d38c00c"
      },
      "outputs": [
        {
          "output_type": "execute_result",
          "data": {
            "text/plain": [
              "   vidid  adview    views  likes  dislikes  comment  published duration  \\\n",
              "0   5912      40  1031602   8523       363     1095       2168  PT7M37S   \n",
              "1   2741       2     1707     56         2        6       2185  PT9M30S   \n",
              "2   8138       1     2023     25         0        2       2094  PT2M16S   \n",
              "3   9005       6   620860    777       161      153       2119  PT4M22S   \n",
              "4    122       1      666      1         0        0       2091    PT31S   \n",
              "\n",
              "   category  \n",
              "0         5  \n",
              "1         3  \n",
              "2         2  \n",
              "3         7  \n",
              "4         3  "
            ],
            "text/html": [
              "\n",
              "  <div id=\"df-e51d4d91-16ae-489f-9319-9767dcf915c0\">\n",
              "    <div class=\"colab-df-container\">\n",
              "      <div>\n",
              "<style scoped>\n",
              "    .dataframe tbody tr th:only-of-type {\n",
              "        vertical-align: middle;\n",
              "    }\n",
              "\n",
              "    .dataframe tbody tr th {\n",
              "        vertical-align: top;\n",
              "    }\n",
              "\n",
              "    .dataframe thead th {\n",
              "        text-align: right;\n",
              "    }\n",
              "</style>\n",
              "<table border=\"1\" class=\"dataframe\">\n",
              "  <thead>\n",
              "    <tr style=\"text-align: right;\">\n",
              "      <th></th>\n",
              "      <th>vidid</th>\n",
              "      <th>adview</th>\n",
              "      <th>views</th>\n",
              "      <th>likes</th>\n",
              "      <th>dislikes</th>\n",
              "      <th>comment</th>\n",
              "      <th>published</th>\n",
              "      <th>duration</th>\n",
              "      <th>category</th>\n",
              "    </tr>\n",
              "  </thead>\n",
              "  <tbody>\n",
              "    <tr>\n",
              "      <th>0</th>\n",
              "      <td>5912</td>\n",
              "      <td>40</td>\n",
              "      <td>1031602</td>\n",
              "      <td>8523</td>\n",
              "      <td>363</td>\n",
              "      <td>1095</td>\n",
              "      <td>2168</td>\n",
              "      <td>PT7M37S</td>\n",
              "      <td>5</td>\n",
              "    </tr>\n",
              "    <tr>\n",
              "      <th>1</th>\n",
              "      <td>2741</td>\n",
              "      <td>2</td>\n",
              "      <td>1707</td>\n",
              "      <td>56</td>\n",
              "      <td>2</td>\n",
              "      <td>6</td>\n",
              "      <td>2185</td>\n",
              "      <td>PT9M30S</td>\n",
              "      <td>3</td>\n",
              "    </tr>\n",
              "    <tr>\n",
              "      <th>2</th>\n",
              "      <td>8138</td>\n",
              "      <td>1</td>\n",
              "      <td>2023</td>\n",
              "      <td>25</td>\n",
              "      <td>0</td>\n",
              "      <td>2</td>\n",
              "      <td>2094</td>\n",
              "      <td>PT2M16S</td>\n",
              "      <td>2</td>\n",
              "    </tr>\n",
              "    <tr>\n",
              "      <th>3</th>\n",
              "      <td>9005</td>\n",
              "      <td>6</td>\n",
              "      <td>620860</td>\n",
              "      <td>777</td>\n",
              "      <td>161</td>\n",
              "      <td>153</td>\n",
              "      <td>2119</td>\n",
              "      <td>PT4M22S</td>\n",
              "      <td>7</td>\n",
              "    </tr>\n",
              "    <tr>\n",
              "      <th>4</th>\n",
              "      <td>122</td>\n",
              "      <td>1</td>\n",
              "      <td>666</td>\n",
              "      <td>1</td>\n",
              "      <td>0</td>\n",
              "      <td>0</td>\n",
              "      <td>2091</td>\n",
              "      <td>PT31S</td>\n",
              "      <td>3</td>\n",
              "    </tr>\n",
              "  </tbody>\n",
              "</table>\n",
              "</div>\n",
              "      <button class=\"colab-df-convert\" onclick=\"convertToInteractive('df-e51d4d91-16ae-489f-9319-9767dcf915c0')\"\n",
              "              title=\"Convert this dataframe to an interactive table.\"\n",
              "              style=\"display:none;\">\n",
              "        \n",
              "  <svg xmlns=\"http://www.w3.org/2000/svg\" height=\"24px\"viewBox=\"0 0 24 24\"\n",
              "       width=\"24px\">\n",
              "    <path d=\"M0 0h24v24H0V0z\" fill=\"none\"/>\n",
              "    <path d=\"M18.56 5.44l.94 2.06.94-2.06 2.06-.94-2.06-.94-.94-2.06-.94 2.06-2.06.94zm-11 1L8.5 8.5l.94-2.06 2.06-.94-2.06-.94L8.5 2.5l-.94 2.06-2.06.94zm10 10l.94 2.06.94-2.06 2.06-.94-2.06-.94-.94-2.06-.94 2.06-2.06.94z\"/><path d=\"M17.41 7.96l-1.37-1.37c-.4-.4-.92-.59-1.43-.59-.52 0-1.04.2-1.43.59L10.3 9.45l-7.72 7.72c-.78.78-.78 2.05 0 2.83L4 21.41c.39.39.9.59 1.41.59.51 0 1.02-.2 1.41-.59l7.78-7.78 2.81-2.81c.8-.78.8-2.07 0-2.86zM5.41 20L4 18.59l7.72-7.72 1.47 1.35L5.41 20z\"/>\n",
              "  </svg>\n",
              "      </button>\n",
              "      \n",
              "  <style>\n",
              "    .colab-df-container {\n",
              "      display:flex;\n",
              "      flex-wrap:wrap;\n",
              "      gap: 12px;\n",
              "    }\n",
              "\n",
              "    .colab-df-convert {\n",
              "      background-color: #E8F0FE;\n",
              "      border: none;\n",
              "      border-radius: 50%;\n",
              "      cursor: pointer;\n",
              "      display: none;\n",
              "      fill: #1967D2;\n",
              "      height: 32px;\n",
              "      padding: 0 0 0 0;\n",
              "      width: 32px;\n",
              "    }\n",
              "\n",
              "    .colab-df-convert:hover {\n",
              "      background-color: #E2EBFA;\n",
              "      box-shadow: 0px 1px 2px rgba(60, 64, 67, 0.3), 0px 1px 3px 1px rgba(60, 64, 67, 0.15);\n",
              "      fill: #174EA6;\n",
              "    }\n",
              "\n",
              "    [theme=dark] .colab-df-convert {\n",
              "      background-color: #3B4455;\n",
              "      fill: #D2E3FC;\n",
              "    }\n",
              "\n",
              "    [theme=dark] .colab-df-convert:hover {\n",
              "      background-color: #434B5C;\n",
              "      box-shadow: 0px 1px 3px 1px rgba(0, 0, 0, 0.15);\n",
              "      filter: drop-shadow(0px 1px 2px rgba(0, 0, 0, 0.3));\n",
              "      fill: #FFFFFF;\n",
              "    }\n",
              "  </style>\n",
              "\n",
              "      <script>\n",
              "        const buttonEl =\n",
              "          document.querySelector('#df-e51d4d91-16ae-489f-9319-9767dcf915c0 button.colab-df-convert');\n",
              "        buttonEl.style.display =\n",
              "          google.colab.kernel.accessAllowed ? 'block' : 'none';\n",
              "\n",
              "        async function convertToInteractive(key) {\n",
              "          const element = document.querySelector('#df-e51d4d91-16ae-489f-9319-9767dcf915c0');\n",
              "          const dataTable =\n",
              "            await google.colab.kernel.invokeFunction('convertToInteractive',\n",
              "                                                     [key], {});\n",
              "          if (!dataTable) return;\n",
              "\n",
              "          const docLinkHtml = 'Like what you see? Visit the ' +\n",
              "            '<a target=\"_blank\" href=https://colab.research.google.com/notebooks/data_table.ipynb>data table notebook</a>'\n",
              "            + ' to learn more about interactive tables.';\n",
              "          element.innerHTML = '';\n",
              "          dataTable['output_type'] = 'display_data';\n",
              "          await google.colab.output.renderOutput(dataTable, element);\n",
              "          const docLink = document.createElement('div');\n",
              "          docLink.innerHTML = docLinkHtml;\n",
              "          element.appendChild(docLink);\n",
              "        }\n",
              "      </script>\n",
              "    </div>\n",
              "  </div>\n",
              "  "
            ]
          },
          "metadata": {},
          "execution_count": 11
        }
      ],
      "source": [
        "data_train.head()"
      ]
    },
    {
      "cell_type": "code",
      "execution_count": 12,
      "metadata": {
        "id": "KtH8fMVqrPue"
      },
      "outputs": [],
      "source": [
        "duration = list(data_train['duration'])\n",
        "for i in range(len(duration)):\n",
        "  duration[i]=duration[i][2:]\n",
        "for i in range(len(duration)):\n",
        "  h=m=s=value=0\n",
        "  for j in duration[i]:\n",
        "    if j=='H':\n",
        "      h=value\n",
        "      value=0\n",
        "    elif j=='M':\n",
        "      m=value\n",
        "      value=0\n",
        "    elif j=='S':\n",
        "      s=value\n",
        "      value=0\n",
        "    else:\n",
        "      value = (value*10)+int(j)\n",
        "  time_duration=(h*3600)+(m*60)+s\n",
        "  duration[i] = time_duration"
      ]
    },
    {
      "cell_type": "code",
      "execution_count": 13,
      "metadata": {
        "id": "Lx9LKWJTAN7L"
      },
      "outputs": [],
      "source": [
        "duration=pd.Series(duration)\n",
        "data_train['duration']=duration.values"
      ]
    },
    {
      "cell_type": "code",
      "execution_count": 14,
      "metadata": {
        "colab": {
          "base_uri": "https://localhost:8080/",
          "height": 206
        },
        "id": "k1HhDu-HxExP",
        "outputId": "e392a461-8860-4db5-bc08-aedb19ab1a60"
      },
      "outputs": [
        {
          "output_type": "execute_result",
          "data": {
            "text/plain": [
              "   vidid  adview    views  likes  dislikes  comment  published  duration  \\\n",
              "0   5912      40  1031602   8523       363     1095       2168       457   \n",
              "1   2741       2     1707     56         2        6       2185       570   \n",
              "2   8138       1     2023     25         0        2       2094       136   \n",
              "3   9005       6   620860    777       161      153       2119       262   \n",
              "4    122       1      666      1         0        0       2091        31   \n",
              "\n",
              "   category  \n",
              "0         5  \n",
              "1         3  \n",
              "2         2  \n",
              "3         7  \n",
              "4         3  "
            ],
            "text/html": [
              "\n",
              "  <div id=\"df-4a8fdcfb-b9b1-4901-b6d1-5c301043a3e3\">\n",
              "    <div class=\"colab-df-container\">\n",
              "      <div>\n",
              "<style scoped>\n",
              "    .dataframe tbody tr th:only-of-type {\n",
              "        vertical-align: middle;\n",
              "    }\n",
              "\n",
              "    .dataframe tbody tr th {\n",
              "        vertical-align: top;\n",
              "    }\n",
              "\n",
              "    .dataframe thead th {\n",
              "        text-align: right;\n",
              "    }\n",
              "</style>\n",
              "<table border=\"1\" class=\"dataframe\">\n",
              "  <thead>\n",
              "    <tr style=\"text-align: right;\">\n",
              "      <th></th>\n",
              "      <th>vidid</th>\n",
              "      <th>adview</th>\n",
              "      <th>views</th>\n",
              "      <th>likes</th>\n",
              "      <th>dislikes</th>\n",
              "      <th>comment</th>\n",
              "      <th>published</th>\n",
              "      <th>duration</th>\n",
              "      <th>category</th>\n",
              "    </tr>\n",
              "  </thead>\n",
              "  <tbody>\n",
              "    <tr>\n",
              "      <th>0</th>\n",
              "      <td>5912</td>\n",
              "      <td>40</td>\n",
              "      <td>1031602</td>\n",
              "      <td>8523</td>\n",
              "      <td>363</td>\n",
              "      <td>1095</td>\n",
              "      <td>2168</td>\n",
              "      <td>457</td>\n",
              "      <td>5</td>\n",
              "    </tr>\n",
              "    <tr>\n",
              "      <th>1</th>\n",
              "      <td>2741</td>\n",
              "      <td>2</td>\n",
              "      <td>1707</td>\n",
              "      <td>56</td>\n",
              "      <td>2</td>\n",
              "      <td>6</td>\n",
              "      <td>2185</td>\n",
              "      <td>570</td>\n",
              "      <td>3</td>\n",
              "    </tr>\n",
              "    <tr>\n",
              "      <th>2</th>\n",
              "      <td>8138</td>\n",
              "      <td>1</td>\n",
              "      <td>2023</td>\n",
              "      <td>25</td>\n",
              "      <td>0</td>\n",
              "      <td>2</td>\n",
              "      <td>2094</td>\n",
              "      <td>136</td>\n",
              "      <td>2</td>\n",
              "    </tr>\n",
              "    <tr>\n",
              "      <th>3</th>\n",
              "      <td>9005</td>\n",
              "      <td>6</td>\n",
              "      <td>620860</td>\n",
              "      <td>777</td>\n",
              "      <td>161</td>\n",
              "      <td>153</td>\n",
              "      <td>2119</td>\n",
              "      <td>262</td>\n",
              "      <td>7</td>\n",
              "    </tr>\n",
              "    <tr>\n",
              "      <th>4</th>\n",
              "      <td>122</td>\n",
              "      <td>1</td>\n",
              "      <td>666</td>\n",
              "      <td>1</td>\n",
              "      <td>0</td>\n",
              "      <td>0</td>\n",
              "      <td>2091</td>\n",
              "      <td>31</td>\n",
              "      <td>3</td>\n",
              "    </tr>\n",
              "  </tbody>\n",
              "</table>\n",
              "</div>\n",
              "      <button class=\"colab-df-convert\" onclick=\"convertToInteractive('df-4a8fdcfb-b9b1-4901-b6d1-5c301043a3e3')\"\n",
              "              title=\"Convert this dataframe to an interactive table.\"\n",
              "              style=\"display:none;\">\n",
              "        \n",
              "  <svg xmlns=\"http://www.w3.org/2000/svg\" height=\"24px\"viewBox=\"0 0 24 24\"\n",
              "       width=\"24px\">\n",
              "    <path d=\"M0 0h24v24H0V0z\" fill=\"none\"/>\n",
              "    <path d=\"M18.56 5.44l.94 2.06.94-2.06 2.06-.94-2.06-.94-.94-2.06-.94 2.06-2.06.94zm-11 1L8.5 8.5l.94-2.06 2.06-.94-2.06-.94L8.5 2.5l-.94 2.06-2.06.94zm10 10l.94 2.06.94-2.06 2.06-.94-2.06-.94-.94-2.06-.94 2.06-2.06.94z\"/><path d=\"M17.41 7.96l-1.37-1.37c-.4-.4-.92-.59-1.43-.59-.52 0-1.04.2-1.43.59L10.3 9.45l-7.72 7.72c-.78.78-.78 2.05 0 2.83L4 21.41c.39.39.9.59 1.41.59.51 0 1.02-.2 1.41-.59l7.78-7.78 2.81-2.81c.8-.78.8-2.07 0-2.86zM5.41 20L4 18.59l7.72-7.72 1.47 1.35L5.41 20z\"/>\n",
              "  </svg>\n",
              "      </button>\n",
              "      \n",
              "  <style>\n",
              "    .colab-df-container {\n",
              "      display:flex;\n",
              "      flex-wrap:wrap;\n",
              "      gap: 12px;\n",
              "    }\n",
              "\n",
              "    .colab-df-convert {\n",
              "      background-color: #E8F0FE;\n",
              "      border: none;\n",
              "      border-radius: 50%;\n",
              "      cursor: pointer;\n",
              "      display: none;\n",
              "      fill: #1967D2;\n",
              "      height: 32px;\n",
              "      padding: 0 0 0 0;\n",
              "      width: 32px;\n",
              "    }\n",
              "\n",
              "    .colab-df-convert:hover {\n",
              "      background-color: #E2EBFA;\n",
              "      box-shadow: 0px 1px 2px rgba(60, 64, 67, 0.3), 0px 1px 3px 1px rgba(60, 64, 67, 0.15);\n",
              "      fill: #174EA6;\n",
              "    }\n",
              "\n",
              "    [theme=dark] .colab-df-convert {\n",
              "      background-color: #3B4455;\n",
              "      fill: #D2E3FC;\n",
              "    }\n",
              "\n",
              "    [theme=dark] .colab-df-convert:hover {\n",
              "      background-color: #434B5C;\n",
              "      box-shadow: 0px 1px 3px 1px rgba(0, 0, 0, 0.15);\n",
              "      filter: drop-shadow(0px 1px 2px rgba(0, 0, 0, 0.3));\n",
              "      fill: #FFFFFF;\n",
              "    }\n",
              "  </style>\n",
              "\n",
              "      <script>\n",
              "        const buttonEl =\n",
              "          document.querySelector('#df-4a8fdcfb-b9b1-4901-b6d1-5c301043a3e3 button.colab-df-convert');\n",
              "        buttonEl.style.display =\n",
              "          google.colab.kernel.accessAllowed ? 'block' : 'none';\n",
              "\n",
              "        async function convertToInteractive(key) {\n",
              "          const element = document.querySelector('#df-4a8fdcfb-b9b1-4901-b6d1-5c301043a3e3');\n",
              "          const dataTable =\n",
              "            await google.colab.kernel.invokeFunction('convertToInteractive',\n",
              "                                                     [key], {});\n",
              "          if (!dataTable) return;\n",
              "\n",
              "          const docLinkHtml = 'Like what you see? Visit the ' +\n",
              "            '<a target=\"_blank\" href=https://colab.research.google.com/notebooks/data_table.ipynb>data table notebook</a>'\n",
              "            + ' to learn more about interactive tables.';\n",
              "          element.innerHTML = '';\n",
              "          dataTable['output_type'] = 'display_data';\n",
              "          await google.colab.output.renderOutput(dataTable, element);\n",
              "          const docLink = document.createElement('div');\n",
              "          docLink.innerHTML = docLinkHtml;\n",
              "          element.appendChild(docLink);\n",
              "        }\n",
              "      </script>\n",
              "    </div>\n",
              "  </div>\n",
              "  "
            ]
          },
          "metadata": {},
          "execution_count": 14
        }
      ],
      "source": [
        "data_train.head()"
      ]
    },
    {
      "cell_type": "code",
      "execution_count": 15,
      "metadata": {
        "colab": {
          "base_uri": "https://localhost:8080/",
          "height": 761
        },
        "id": "nJ46Acjwy-bW",
        "outputId": "47ee4770-32ca-4159-e215-5c79fc97d93a"
      },
      "outputs": [
        {
          "output_type": "display_data",
          "data": {
            "text/plain": [
              "<Figure size 432x288 with 1 Axes>"
            ],
            "image/png": "[encoded data removed]"
          },
          "metadata": {
            "needs_background": "light"
          }
        },
        {
          "output_type": "display_data",
          "data": {
            "text/plain": [
              "<Figure size 432x288 with 1 Axes>"
            ],
            "image/png": "[encoded data removed]"
          },
          "metadata": {
            "needs_background": "light"
          }
        },
        {
          "output_type": "display_data",
          "data": {
            "text/plain": [
              "<Figure size 432x288 with 1 Axes>"
            ],
            "image/png": "[encoded data removed]"
          },
          "metadata": {
            "needs_background": "light"
          }
        }
      ],
      "source": [
        "\n",
        "plt.plot(data_train['likes'])\n",
        "plt.show()\n",
        "plt.plot(data_train['dislikes'])\n",
        "plt.show()\n",
        "plt.plot(data_train['duration'])\n",
        "plt.show()"
      ]
    },
    {
      "cell_type": "code",
      "source": [
        "sns.scatterplot(data=data_train,x=\"category\",y=\"likes\")"
      ],
      "metadata": {
        "colab": {
          "base_uri": "https://localhost:8080/",
          "height": 296
        },
        "id": "oQjDQroMvoPw",
        "outputId": "6830a1ea-cc35-43f0-f2d1-24bd8148c403"
      },
      "execution_count": 16,
      "outputs": [
        {
          "output_type": "execute_result",
          "data": {
            "text/plain": [
              "<matplotlib.axes._subplots.AxesSubplot at 0x7f2b97520550>"
            ]
          },
          "metadata": {},
          "execution_count": 16
        },
        {
          "output_type": "display_data",
          "data": {
            "text/plain": [
              "<Figure size 432x288 with 1 Axes>"
            ],
            "image/png": "[encoded data removed]"
          },
          "metadata": {
            "needs_background": "light"
          }
        }
      ]
    },
    {
      "cell_type": "code",
      "execution_count": 17,
      "metadata": {
        "id": "uc_z5VZCo2Ke",
        "colab": {
          "base_uri": "https://localhost:8080/",
          "height": 55
        },
        "outputId": "7413be88-29f5-4ee7-da49-6ca02bc6214f"
      },
      "outputs": [
        {
          "output_type": "execute_result",
          "data": {
            "text/plain": [
              "\"data_train = data_train[data_train['likes']<200000]\\ndata_train = data_train[data_train['dislikes']<35000]\\ndata_train = data_train[data_train['duration']<30000]\""
            ],
            "application/vnd.google.colaboratory.intrinsic+json": {
              "type": "string"
            }
          },
          "metadata": {},
          "execution_count": 17
        }
      ],
      "source": [
        "\"\"\"data_train = data_train[data_train['likes']<200000]\n",
        "data_train = data_train[data_train['dislikes']<35000]\n",
        "data_train = data_train[data_train['duration']<30000]\"\"\""
      ]
    },
    {
      "cell_type": "code",
      "execution_count": 18,
      "metadata": {
        "colab": {
          "base_uri": "https://localhost:8080/",
          "height": 772
        },
        "id": "CNUj7FM0ptw_",
        "outputId": "806ec089-257d-4aa5-eb79-ac4c273ce7a6"
      },
      "outputs": [
        {
          "output_type": "display_data",
          "data": {
            "text/plain": [
              "<Figure size 432x288 with 1 Axes>"
            ],
            "image/png": "[encoded data removed]"
          },
          "metadata": {
            "needs_background": "light"
          }
        },
        {
          "output_type": "display_data",
          "data": {
            "text/plain": [
              "<Figure size 432x288 with 1 Axes>"
            ],
            "image/png": "[encoded data removed]"
          },
          "metadata": {
            "needs_background": "light"
          }
        },
        {
          "output_type": "display_data",
          "data": {
            "text/plain": [
              "<Figure size 432x288 with 1 Axes>"
            ],
            "image/png": "[encoded data removed]"
          },
          "metadata": {
            "needs_background": "light"
          }
        }
      ],
      "source": [
        "\n",
        "plt.plot(data_train['adview'])\n",
        "plt.show()\n",
        "plt.plot(data_train['dislikes'])\n",
        "plt.show()\n",
        "plt.plot(data_train['duration'])\n",
        "plt.show()"
      ]
    },
    {
      "cell_type": "code",
      "execution_count": 19,
      "metadata": {
        "colab": {
          "base_uri": "https://localhost:8080/",
          "height": 349
        },
        "id": "Hp2q-5lGLBHu",
        "outputId": "7e92e6f4-fa6b-45ad-83f3-ca0f5c77fc81"
      },
      "outputs": [
        {
          "output_type": "stream",
          "name": "stderr",
          "text": [
            "/usr/local/lib/python3.7/dist-packages/seaborn/_decorators.py:43: FutureWarning: Pass the following variable as a keyword arg: x. From version 0.12, the only valid positional argument will be `data`, and passing other arguments without an explicit keyword will result in an error or misinterpretation.\n",
            "  FutureWarning\n",
            "/usr/local/lib/python3.7/dist-packages/seaborn/_decorators.py:43: FutureWarning: Pass the following variable as a keyword arg: x. From version 0.12, the only valid positional argument will be `data`, and passing other arguments without an explicit keyword will result in an error or misinterpretation.\n",
            "  FutureWarning\n",
            "/usr/local/lib/python3.7/dist-packages/seaborn/_decorators.py:43: FutureWarning: Pass the following variable as a keyword arg: x. From version 0.12, the only valid positional argument will be `data`, and passing other arguments without an explicit keyword will result in an error or misinterpretation.\n",
            "  FutureWarning\n"
          ]
        },
        {
          "output_type": "display_data",
          "data": {
            "text/plain": [
              "<Figure size 1152x216 with 3 Axes>"
            ],
            "image/png": "[encoded data removed]"
          },
          "metadata": {
            "needs_background": "light"
          }
        }
      ],
      "source": [
        "plt.rcParams['figure.figsize']=(16,3)\n",
        "plt.subplot(1,3,1)\n",
        "sns.boxplot(data_train['dislikes'])\n",
        "plt.subplot(1,3,2)\n",
        "sns.boxplot(data_train['dislikes'])\n",
        "plt.subplot(1,3,3)\n",
        "sns.boxplot(data_train['adview'])\n",
        "plt.show()"
      ]
    },
    {
      "cell_type": "code",
      "execution_count": 20,
      "metadata": {
        "id": "28oJQNiEz1oa"
      },
      "outputs": [],
      "source": [
        "data_train = data_train[data_train['adview']<2000000]"
      ]
    },
    {
      "cell_type": "code",
      "execution_count": 21,
      "metadata": {
        "colab": {
          "base_uri": "https://localhost:8080/",
          "height": 559
        },
        "id": "K1MZMyx90rC6",
        "outputId": "7931d35d-6b4b-4f37-98ef-f60cbdf32bab"
      },
      "outputs": [
        {
          "output_type": "stream",
          "name": "stderr",
          "text": [
            "/usr/local/lib/python3.7/dist-packages/ipykernel_launcher.py:4: DeprecationWarning: `np.bool` is a deprecated alias for the builtin `bool`. To silence this warning, use `bool` by itself. Doing this will not modify any behavior and is safe. If you specifically wanted the numpy scalar type, use `np.bool_` here.\n",
            "Deprecated in NumPy 1.20; for more details and guidance: https://numpy.org/devdocs/release/1.20.0-notes.html#deprecations\n",
            "  after removing the cwd from sys.path.\n"
          ]
        },
        {
          "output_type": "display_data",
          "data": {
            "text/plain": [
              "<Figure size 720x576 with 2 Axes>"
            ],
            "image/png": "[encoded data removed]"
          },
          "metadata": {
            "needs_background": "light"
          }
        }
      ],
      "source": [
        "import seaborn as sns\n",
        "f,ax = plt.subplots(figsize=(10,8))\n",
        "correlation = data_train.corr()\n",
        "sns.heatmap(correlation,mask=np.zeros_like(correlation,dtype=np.bool),cmap=sns.diverging_palette(220,10,as_cmap=True),square=True,ax=ax,annot=True)\n",
        "plt.show()"
      ]
    },
    {
      "cell_type": "code",
      "execution_count": 22,
      "metadata": {
        "id": "DPLMEa-MnNsV"
      },
      "outputs": [],
      "source": [
        "data_train = data_train.drop(['category'],axis=1)"
      ]
    },
    {
      "cell_type": "code",
      "execution_count": 23,
      "metadata": {
        "colab": {
          "base_uri": "https://localhost:8080/",
          "height": 206
        },
        "id": "1nqdahLS1FJV",
        "outputId": "fee30ba1-177a-4984-c578-5e05ba07f047"
      },
      "outputs": [
        {
          "output_type": "execute_result",
          "data": {
            "text/plain": [
              "     views  likes  dislikes  comment  published\n",
              "0  1031602   8523       363     1095       2168\n",
              "1     1707     56         2        6       2185\n",
              "2     2023     25         0        2       2094\n",
              "3   620860    777       161      153       2119\n",
              "4      666      1         0        0       2091"
            ],
            "text/html": [
              "\n",
              "  <div id=\"df-bbee08f3-c3b9-4b17-904d-64f8e79fd38d\">\n",
              "    <div class=\"colab-df-container\">\n",
              "      <div>\n",
              "<style scoped>\n",
              "    .dataframe tbody tr th:only-of-type {\n",
              "        vertical-align: middle;\n",
              "    }\n",
              "\n",
              "    .dataframe tbody tr th {\n",
              "        vertical-align: top;\n",
              "    }\n",
              "\n",
              "    .dataframe thead th {\n",
              "        text-align: right;\n",
              "    }\n",
              "</style>\n",
              "<table border=\"1\" class=\"dataframe\">\n",
              "  <thead>\n",
              "    <tr style=\"text-align: right;\">\n",
              "      <th></th>\n",
              "      <th>views</th>\n",
              "      <th>likes</th>\n",
              "      <th>dislikes</th>\n",
              "      <th>comment</th>\n",
              "      <th>published</th>\n",
              "    </tr>\n",
              "  </thead>\n",
              "  <tbody>\n",
              "    <tr>\n",
              "      <th>0</th>\n",
              "      <td>1031602</td>\n",
              "      <td>8523</td>\n",
              "      <td>363</td>\n",
              "      <td>1095</td>\n",
              "      <td>2168</td>\n",
              "    </tr>\n",
              "    <tr>\n",
              "      <th>1</th>\n",
              "      <td>1707</td>\n",
              "      <td>56</td>\n",
              "      <td>2</td>\n",
              "      <td>6</td>\n",
              "      <td>2185</td>\n",
              "    </tr>\n",
              "    <tr>\n",
              "      <th>2</th>\n",
              "      <td>2023</td>\n",
              "      <td>25</td>\n",
              "      <td>0</td>\n",
              "      <td>2</td>\n",
              "      <td>2094</td>\n",
              "    </tr>\n",
              "    <tr>\n",
              "      <th>3</th>\n",
              "      <td>620860</td>\n",
              "      <td>777</td>\n",
              "      <td>161</td>\n",
              "      <td>153</td>\n",
              "      <td>2119</td>\n",
              "    </tr>\n",
              "    <tr>\n",
              "      <th>4</th>\n",
              "      <td>666</td>\n",
              "      <td>1</td>\n",
              "      <td>0</td>\n",
              "      <td>0</td>\n",
              "      <td>2091</td>\n",
              "    </tr>\n",
              "  </tbody>\n",
              "</table>\n",
              "</div>\n",
              "      <button class=\"colab-df-convert\" onclick=\"convertToInteractive('df-bbee08f3-c3b9-4b17-904d-64f8e79fd38d')\"\n",
              "              title=\"Convert this dataframe to an interactive table.\"\n",
              "              style=\"display:none;\">\n",
              "        \n",
              "  <svg xmlns=\"http://www.w3.org/2000/svg\" height=\"24px\"viewBox=\"0 0 24 24\"\n",
              "       width=\"24px\">\n",
              "    <path d=\"M0 0h24v24H0V0z\" fill=\"none\"/>\n",
              "    <path d=\"M18.56 5.44l.94 2.06.94-2.06 2.06-.94-2.06-.94-.94-2.06-.94 2.06-2.06.94zm-11 1L8.5 8.5l.94-2.06 2.06-.94-2.06-.94L8.5 2.5l-.94 2.06-2.06.94zm10 10l.94 2.06.94-2.06 2.06-.94-2.06-.94-.94-2.06-.94 2.06-2.06.94z\"/><path d=\"M17.41 7.96l-1.37-1.37c-.4-.4-.92-.59-1.43-.59-.52 0-1.04.2-1.43.59L10.3 9.45l-7.72 7.72c-.78.78-.78 2.05 0 2.83L4 21.41c.39.39.9.59 1.41.59.51 0 1.02-.2 1.41-.59l7.78-7.78 2.81-2.81c.8-.78.8-2.07 0-2.86zM5.41 20L4 18.59l7.72-7.72 1.47 1.35L5.41 20z\"/>\n",
              "  </svg>\n",
              "      </button>\n",
              "      \n",
              "  <style>\n",
              "    .colab-df-container {\n",
              "      display:flex;\n",
              "      flex-wrap:wrap;\n",
              "      gap: 12px;\n",
              "    }\n",
              "\n",
              "    .colab-df-convert {\n",
              "      background-color: #E8F0FE;\n",
              "      border: none;\n",
              "      border-radius: 50%;\n",
              "      cursor: pointer;\n",
              "      display: none;\n",
              "      fill: #1967D2;\n",
              "      height: 32px;\n",
              "      padding: 0 0 0 0;\n",
              "      width: 32px;\n",
              "    }\n",
              "\n",
              "    .colab-df-convert:hover {\n",
              "      background-color: #E2EBFA;\n",
              "      box-shadow: 0px 1px 2px rgba(60, 64, 67, 0.3), 0px 1px 3px 1px rgba(60, 64, 67, 0.15);\n",
              "      fill: #174EA6;\n",
              "    }\n",
              "\n",
              "    [theme=dark] .colab-df-convert {\n",
              "      background-color: #3B4455;\n",
              "      fill: #D2E3FC;\n",
              "    }\n",
              "\n",
              "    [theme=dark] .colab-df-convert:hover {\n",
              "      background-color: #434B5C;\n",
              "      box-shadow: 0px 1px 3px 1px rgba(0, 0, 0, 0.15);\n",
              "      filter: drop-shadow(0px 1px 2px rgba(0, 0, 0, 0.3));\n",
              "      fill: #FFFFFF;\n",
              "    }\n",
              "  </style>\n",
              "\n",
              "      <script>\n",
              "        const buttonEl =\n",
              "          document.querySelector('#df-bbee08f3-c3b9-4b17-904d-64f8e79fd38d button.colab-df-convert');\n",
              "        buttonEl.style.display =\n",
              "          google.colab.kernel.accessAllowed ? 'block' : 'none';\n",
              "\n",
              "        async function convertToInteractive(key) {\n",
              "          const element = document.querySelector('#df-bbee08f3-c3b9-4b17-904d-64f8e79fd38d');\n",
              "          const dataTable =\n",
              "            await google.colab.kernel.invokeFunction('convertToInteractive',\n",
              "                                                     [key], {});\n",
              "          if (!dataTable) return;\n",
              "\n",
              "          const docLinkHtml = 'Like what you see? Visit the ' +\n",
              "            '<a target=\"_blank\" href=https://colab.research.google.com/notebooks/data_table.ipynb>data table notebook</a>'\n",
              "            + ' to learn more about interactive tables.';\n",
              "          element.innerHTML = '';\n",
              "          dataTable['output_type'] = 'display_data';\n",
              "          await google.colab.output.renderOutput(dataTable, element);\n",
              "          const docLink = document.createElement('div');\n",
              "          docLink.innerHTML = docLinkHtml;\n",
              "          element.appendChild(docLink);\n",
              "        }\n",
              "      </script>\n",
              "    </div>\n",
              "  </div>\n",
              "  "
            ]
          },
          "metadata": {},
          "execution_count": 23
        }
      ],
      "source": [
        "Y_train = pd.DataFrame(data = data_train.iloc[:,1].values,columns = ['target'])\n",
        "data_train = data_train.drop(['vidid'],axis=1)\n",
        "data_train = data_train.drop(['adview'],axis=1)\n",
        "#data_train = data_train.drop(['category'],axis=1)\n",
        "data_train = data_train.drop(['duration'],axis=1)\n",
        "data_train.head()"
      ]
    },
    {
      "cell_type": "code",
      "execution_count": 24,
      "metadata": {
        "colab": {
          "base_uri": "https://localhost:8080/",
          "height": 559
        },
        "id": "_dJHDwsytsSf",
        "outputId": "89a12f11-d2fa-4373-c7da-8a386a2f199a"
      },
      "outputs": [
        {
          "output_type": "stream",
          "name": "stderr",
          "text": [
            "/usr/local/lib/python3.7/dist-packages/ipykernel_launcher.py:4: DeprecationWarning: `np.bool` is a deprecated alias for the builtin `bool`. To silence this warning, use `bool` by itself. Doing this will not modify any behavior and is safe. If you specifically wanted the numpy scalar type, use `np.bool_` here.\n",
            "Deprecated in NumPy 1.20; for more details and guidance: https://numpy.org/devdocs/release/1.20.0-notes.html#deprecations\n",
            "  after removing the cwd from sys.path.\n"
          ]
        },
        {
          "output_type": "display_data",
          "data": {
            "text/plain": [
              "<Figure size 720x576 with 2 Axes>"
            ],
            "image/png": "[encoded data removed]"
          },
          "metadata": {
            "needs_background": "light"
          }
        }
      ],
      "source": [
        "import seaborn as sns\n",
        "f,ax = plt.subplots(figsize=(10,8))\n",
        "correlation = data_train.corr()\n",
        "sns.heatmap(correlation,mask=np.zeros_like(correlation,dtype=np.bool),cmap=sns.diverging_palette(220,10,as_cmap=True),square=True,ax=ax,annot=True)\n",
        "plt.show()"
      ]
    },
    {
      "cell_type": "code",
      "execution_count": 25,
      "metadata": {
        "id": "HM09QfUr4O4C"
      },
      "outputs": [],
      "source": [
        "from sklearn.model_selection import train_test_split\n",
        "X_train, X_test, y_train, y_test = train_test_split(data_train, Y_train, test_size = 0.2, random_state = 42)"
      ]
    },
    {
      "cell_type": "code",
      "execution_count": 26,
      "metadata": {
        "colab": {
          "base_uri": "https://localhost:8080/",
          "height": 424
        },
        "id": "01MkFBu96vRF",
        "outputId": "e2c46ffa-93e0-4990-ef7c-570bdb07301c"
      },
      "outputs": [
        {
          "output_type": "execute_result",
          "data": {
            "text/plain": [
              "         views  likes  dislikes  comment  published\n",
              "13440    86739    117         9        4       1217\n",
              "9523   1419766    887       362      232       1547\n",
              "3012     26086     19         0        9        966\n",
              "1888    305445   3662        45      555       1484\n",
              "11378   737649   1702        96       53       1127\n",
              "...        ...    ...       ...      ...        ...\n",
              "5316     31648    140        24       14       1925\n",
              "13748     1804      4         1        0       1049\n",
              "5522    204817     86        35       11       1237\n",
              "883    1361366   1384       757      185       2145\n",
              "7445     39758    122         6        3        224\n",
              "\n",
              "[11708 rows x 5 columns]"
            ],
            "text/html": [
              "\n",
              "  <div id=\"df-197f4434-3299-4571-aca7-a12f2430181b\">\n",
              "    <div class=\"colab-df-container\">\n",
              "      <div>\n",
              "<style scoped>\n",
              "    .dataframe tbody tr th:only-of-type {\n",
              "        vertical-align: middle;\n",
              "    }\n",
              "\n",
              "    .dataframe tbody tr th {\n",
              "        vertical-align: top;\n",
              "    }\n",
              "\n",
              "    .dataframe thead th {\n",
              "        text-align: right;\n",
              "    }\n",
              "</style>\n",
              "<table border=\"1\" class=\"dataframe\">\n",
              "  <thead>\n",
              "    <tr style=\"text-align: right;\">\n",
              "      <th></th>\n",
              "      <th>views</th>\n",
              "      <th>likes</th>\n",
              "      <th>dislikes</th>\n",
              "      <th>comment</th>\n",
              "      <th>published</th>\n",
              "    </tr>\n",
              "  </thead>\n",
              "  <tbody>\n",
              "    <tr>\n",
              "      <th>13440</th>\n",
              "      <td>86739</td>\n",
              "      <td>117</td>\n",
              "      <td>9</td>\n",
              "      <td>4</td>\n",
              "      <td>1217</td>\n",
              "    </tr>\n",
              "    <tr>\n",
              "      <th>9523</th>\n",
              "      <td>1419766</td>\n",
              "      <td>887</td>\n",
              "      <td>362</td>\n",
              "      <td>232</td>\n",
              "      <td>1547</td>\n",
              "    </tr>\n",
              "    <tr>\n",
              "      <th>3012</th>\n",
              "      <td>26086</td>\n",
              "      <td>19</td>\n",
              "      <td>0</td>\n",
              "      <td>9</td>\n",
              "      <td>966</td>\n",
              "    </tr>\n",
              "    <tr>\n",
              "      <th>1888</th>\n",
              "      <td>305445</td>\n",
              "      <td>3662</td>\n",
              "      <td>45</td>\n",
              "      <td>555</td>\n",
              "      <td>1484</td>\n",
              "    </tr>\n",
              "    <tr>\n",
              "      <th>11378</th>\n",
              "      <td>737649</td>\n",
              "      <td>1702</td>\n",
              "      <td>96</td>\n",
              "      <td>53</td>\n",
              "      <td>1127</td>\n",
              "    </tr>\n",
              "    <tr>\n",
              "      <th>...</th>\n",
              "      <td>...</td>\n",
              "      <td>...</td>\n",
              "      <td>...</td>\n",
              "      <td>...</td>\n",
              "      <td>...</td>\n",
              "    </tr>\n",
              "    <tr>\n",
              "      <th>5316</th>\n",
              "      <td>31648</td>\n",
              "      <td>140</td>\n",
              "      <td>24</td>\n",
              "      <td>14</td>\n",
              "      <td>1925</td>\n",
              "    </tr>\n",
              "    <tr>\n",
              "      <th>13748</th>\n",
              "      <td>1804</td>\n",
              "      <td>4</td>\n",
              "      <td>1</td>\n",
              "      <td>0</td>\n",
              "      <td>1049</td>\n",
              "    </tr>\n",
              "    <tr>\n",
              "      <th>5522</th>\n",
              "      <td>204817</td>\n",
              "      <td>86</td>\n",
              "      <td>35</td>\n",
              "      <td>11</td>\n",
              "      <td>1237</td>\n",
              "    </tr>\n",
              "    <tr>\n",
              "      <th>883</th>\n",
              "      <td>1361366</td>\n",
              "      <td>1384</td>\n",
              "      <td>757</td>\n",
              "      <td>185</td>\n",
              "      <td>2145</td>\n",
              "    </tr>\n",
              "    <tr>\n",
              "      <th>7445</th>\n",
              "      <td>39758</td>\n",
              "      <td>122</td>\n",
              "      <td>6</td>\n",
              "      <td>3</td>\n",
              "      <td>224</td>\n",
              "    </tr>\n",
              "  </tbody>\n",
              "</table>\n",
              "<p>11708 rows × 5 columns</p>\n",
              "</div>\n",
              "      <button class=\"colab-df-convert\" onclick=\"convertToInteractive('df-197f4434-3299-4571-aca7-a12f2430181b')\"\n",
              "              title=\"Convert this dataframe to an interactive table.\"\n",
              "              style=\"display:none;\">\n",
              "        \n",
              "  <svg xmlns=\"http://www.w3.org/2000/svg\" height=\"24px\"viewBox=\"0 0 24 24\"\n",
              "       width=\"24px\">\n",
              "    <path d=\"M0 0h24v24H0V0z\" fill=\"none\"/>\n",
              "    <path d=\"M18.56 5.44l.94 2.06.94-2.06 2.06-.94-2.06-.94-.94-2.06-.94 2.06-2.06.94zm-11 1L8.5 8.5l.94-2.06 2.06-.94-2.06-.94L8.5 2.5l-.94 2.06-2.06.94zm10 10l.94 2.06.94-2.06 2.06-.94-2.06-.94-.94-2.06-.94 2.06-2.06.94z\"/><path d=\"M17.41 7.96l-1.37-1.37c-.4-.4-.92-.59-1.43-.59-.52 0-1.04.2-1.43.59L10.3 9.45l-7.72 7.72c-.78.78-.78 2.05 0 2.83L4 21.41c.39.39.9.59 1.41.59.51 0 1.02-.2 1.41-.59l7.78-7.78 2.81-2.81c.8-.78.8-2.07 0-2.86zM5.41 20L4 18.59l7.72-7.72 1.47 1.35L5.41 20z\"/>\n",
              "  </svg>\n",
              "      </button>\n",
              "      \n",
              "  <style>\n",
              "    .colab-df-container {\n",
              "      display:flex;\n",
              "      flex-wrap:wrap;\n",
              "      gap: 12px;\n",
              "    }\n",
              "\n",
              "    .colab-df-convert {\n",
              "      background-color: #E8F0FE;\n",
              "      border: none;\n",
              "      border-radius: 50%;\n",
              "      cursor: pointer;\n",
              "      display: none;\n",
              "      fill: #1967D2;\n",
              "      height: 32px;\n",
              "      padding: 0 0 0 0;\n",
              "      width: 32px;\n",
              "    }\n",
              "\n",
              "    .colab-df-convert:hover {\n",
              "      background-color: #E2EBFA;\n",
              "      box-shadow: 0px 1px 2px rgba(60, 64, 67, 0.3), 0px 1px 3px 1px rgba(60, 64, 67, 0.15);\n",
              "      fill: #174EA6;\n",
              "    }\n",
              "\n",
              "    [theme=dark] .colab-df-convert {\n",
              "      background-color: #3B4455;\n",
              "      fill: #D2E3FC;\n",
              "    }\n",
              "\n",
              "    [theme=dark] .colab-df-convert:hover {\n",
              "      background-color: #434B5C;\n",
              "      box-shadow: 0px 1px 3px 1px rgba(0, 0, 0, 0.15);\n",
              "      filter: drop-shadow(0px 1px 2px rgba(0, 0, 0, 0.3));\n",
              "      fill: #FFFFFF;\n",
              "    }\n",
              "  </style>\n",
              "\n",
              "      <script>\n",
              "        const buttonEl =\n",
              "          document.querySelector('#df-197f4434-3299-4571-aca7-a12f2430181b button.colab-df-convert');\n",
              "        buttonEl.style.display =\n",
              "          google.colab.kernel.accessAllowed ? 'block' : 'none';\n",
              "\n",
              "        async function convertToInteractive(key) {\n",
              "          const element = document.querySelector('#df-197f4434-3299-4571-aca7-a12f2430181b');\n",
              "          const dataTable =\n",
              "            await google.colab.kernel.invokeFunction('convertToInteractive',\n",
              "                                                     [key], {});\n",
              "          if (!dataTable) return;\n",
              "\n",
              "          const docLinkHtml = 'Like what you see? Visit the ' +\n",
              "            '<a target=\"_blank\" href=https://colab.research.google.com/notebooks/data_table.ipynb>data table notebook</a>'\n",
              "            + ' to learn more about interactive tables.';\n",
              "          element.innerHTML = '';\n",
              "          dataTable['output_type'] = 'display_data';\n",
              "          await google.colab.output.renderOutput(dataTable, element);\n",
              "          const docLink = document.createElement('div');\n",
              "          docLink.innerHTML = docLinkHtml;\n",
              "          element.appendChild(docLink);\n",
              "        }\n",
              "      </script>\n",
              "    </div>\n",
              "  </div>\n",
              "  "
            ]
          },
          "metadata": {},
          "execution_count": 26
        }
      ],
      "source": [
        "X_train"
      ]
    },
    {
      "cell_type": "code",
      "execution_count": 27,
      "metadata": {
        "id": "t5phDhS-5IJy"
      },
      "outputs": [],
      "source": [
        "from sklearn.preprocessing import MinMaxScaler\n",
        "scaler = MinMaxScaler()\n",
        "X_train = scaler.fit_transform(X_train)\n",
        "X_test = scaler.fit_transform(X_test)"
      ]
    },
    {
      "cell_type": "code",
      "execution_count": 28,
      "metadata": {
        "id": "SeHJfA3b6fzN"
      },
      "outputs": [],
      "source": [
        "from sklearn import metrics\n",
        "def performance(X_test, y_test, model):\n",
        "  prediction = model.predict(X_test)\n",
        "  print(\"Mean Absolute Error: \", metrics.mean_absolute_error(y_test, prediction))\n",
        "  print(\"Mean Squared Error: \", metrics.mean_squared_error(y_test,prediction))\n",
        "  print(\"Root mean squared error: \",np.sqrt(metrics.mean_squared_error(y_test,prediction)))\n",
        "  print(\"R2_score: \", metrics.r2_score(y_test,prediction))"
      ]
    },
    {
      "cell_type": "code",
      "execution_count": 29,
      "metadata": {
        "colab": {
          "base_uri": "https://localhost:8080/"
        },
        "id": "GVlAu2bQ6pKZ",
        "outputId": "9b960577-f028-4089-c1a3-ed6ee5e325d6"
      },
      "outputs": [
        {
          "output_type": "stream",
          "name": "stdout",
          "text": [
            "Mean Absolute Error:  3718.5077955538263\n",
            "Mean Squared Error:  836004684.2524498\n",
            "Root mean squared error:  28913.745593617747\n",
            "R2_score:  -0.006252663202638731\n"
          ]
        }
      ],
      "source": [
        "from sklearn import linear_model\n",
        "linear_regression = linear_model.LinearRegression()\n",
        "linear_regression.fit(X_train, y_train)\n",
        "performance(X_test,y_test, linear_regression)\n"
      ]
    },
    {
      "cell_type": "code",
      "execution_count": 30,
      "metadata": {
        "colab": {
          "base_uri": "https://localhost:8080/"
        },
        "id": "mHKLGu8A95jO",
        "outputId": "fcb06078-1e3d-4383-8ae9-0eb025943da5"
      },
      "outputs": [
        {
          "output_type": "stream",
          "name": "stdout",
          "text": [
            "Mean Absolute Error:  1885.6994535519125\n",
            "Mean Squared Error:  387131474.96516395\n",
            "Root mean squared error:  19675.6569131799\n",
            "R2_score:  0.5340312261030009\n"
          ]
        }
      ],
      "source": [
        "from sklearn.tree import DecisionTreeRegressor\n",
        "decision_tree = DecisionTreeRegressor()\n",
        "decision_tree.fit(X_train, y_train)\n",
        "performance(X_test,y_test, decision_tree)"
      ]
    },
    {
      "cell_type": "code",
      "execution_count": 31,
      "metadata": {
        "colab": {
          "base_uri": "https://localhost:8080/"
        },
        "id": "GdrkXFRmCeCQ",
        "outputId": "a60203b6-3333-43f1-d33f-ea5c52a34db5"
      },
      "outputs": [
        {
          "output_type": "stream",
          "name": "stderr",
          "text": [
            "/usr/local/lib/python3.7/dist-packages/ipykernel_launcher.py:7: DataConversionWarning: A column-vector y was passed when a 1d array was expected. Please change the shape of y to (n_samples,), for example using ravel().\n",
            "  import sys\n"
          ]
        },
        {
          "output_type": "stream",
          "name": "stdout",
          "text": [
            "Mean Absolute Error:  3471.3169137722534\n",
            "Mean Squared Error:  619835526.201036\n",
            "Root mean squared error:  24896.496263551544\n",
            "R2_score:  0.2539382126248251\n"
          ]
        }
      ],
      "source": [
        "from sklearn.ensemble import RandomForestRegressor\n",
        "n_estimators = 200\n",
        "max_depth = 25\n",
        "min_samples_split=15\n",
        "min_samples_leaf=2\n",
        "random_forest = RandomForestRegressor(n_estimators=n_estimators, max_depth=max_depth , min_samples_split=min_samples_split, min_samples_leaf=min_samples_leaf)\n",
        "random_forest.fit(X_train,y_train)\n",
        "performance(X_test,y_test, random_forest)"
      ]
    },
    {
      "cell_type": "code",
      "execution_count": 32,
      "metadata": {
        "colab": {
          "base_uri": "https://localhost:8080/"
        },
        "id": "06rnv8-IDp8I",
        "outputId": "e62c5c20-1d76-47f2-ecbf-f80b8f076a2d"
      },
      "outputs": [
        {
          "output_type": "stream",
          "name": "stderr",
          "text": [
            "/usr/local/lib/python3.7/dist-packages/sklearn/utils/validation.py:993: DataConversionWarning: A column-vector y was passed when a 1d array was expected. Please change the shape of y to (n_samples, ), for example using ravel().\n",
            "  y = column_or_1d(y, warn=True)\n"
          ]
        },
        {
          "output_type": "stream",
          "name": "stdout",
          "text": [
            "Mean Absolute Error:  3718.5077955538263\n",
            "Mean Squared Error:  836004684.2524498\n",
            "Root mean squared error:  28913.745593617747\n",
            "R2_score:  -0.006252663202638731\n"
          ]
        }
      ],
      "source": [
        "from sklearn.svm import SVR\n",
        "supportvector_regressor = SVR()\n",
        "supportvector_regressor.fit(X_train,y_train)\n",
        "performance(X_test,y_test, linear_regression)"
      ]
    },
    {
      "cell_type": "code",
      "execution_count": 33,
      "metadata": {
        "id": "DNGBdnCiET_U"
      },
      "outputs": [],
      "source": [
        "import tensorflow as tf\n",
        "import keras\n",
        "from keras.layers import Dense"
      ]
    },
    {
      "cell_type": "code",
      "execution_count": 34,
      "metadata": {
        "colab": {
          "base_uri": "https://localhost:8080/"
        },
        "id": "0XTIQ2xkdLOC",
        "outputId": "a4ad2383-c77b-4e4d-db19-c38699992fd1"
      },
      "outputs": [
        {
          "output_type": "stream",
          "name": "stdout",
          "text": [
            "Epoch 1/100\n",
            "366/366 [==============================] - 1s 1ms/step - loss: 767406720.0000 - mean_squared_error: 767406720.0000\n",
            "Epoch 2/100\n",
            "366/366 [==============================] - 1s 2ms/step - loss: 767400256.0000 - mean_squared_error: 767400256.0000\n",
            "Epoch 3/100\n",
            "366/366 [==============================] - 1s 2ms/step - loss: 767382208.0000 - mean_squared_error: 767382208.0000\n",
            "Epoch 4/100\n",
            "366/366 [==============================] - 1s 1ms/step - loss: 767347008.0000 - mean_squared_error: 767347008.0000\n",
            "Epoch 5/100\n",
            "366/366 [==============================] - 1s 2ms/step - loss: 767296640.0000 - mean_squared_error: 767296640.0000\n",
            "Epoch 6/100\n",
            "366/366 [==============================] - 1s 2ms/step - loss: 767227840.0000 - mean_squared_error: 767227840.0000\n",
            "Epoch 7/100\n",
            "366/366 [==============================] - 1s 1ms/step - loss: 767139008.0000 - mean_squared_error: 767139008.0000\n",
            "Epoch 8/100\n",
            "366/366 [==============================] - 1s 1ms/step - loss: 767033152.0000 - mean_squared_error: 767033152.0000\n",
            "Epoch 9/100\n",
            "366/366 [==============================] - 1s 2ms/step - loss: 766912768.0000 - mean_squared_error: 766912768.0000\n",
            "Epoch 10/100\n",
            "366/366 [==============================] - 1s 1ms/step - loss: 766777088.0000 - mean_squared_error: 766777088.0000\n",
            "Epoch 11/100\n",
            "366/366 [==============================] - 1s 2ms/step - loss: 766621888.0000 - mean_squared_error: 766621888.0000\n",
            "Epoch 12/100\n",
            "366/366 [==============================] - 1s 1ms/step - loss: 766476800.0000 - mean_squared_error: 766476800.0000\n",
            "Epoch 13/100\n",
            "366/366 [==============================] - 1s 2ms/step - loss: 766322112.0000 - mean_squared_error: 766322112.0000\n",
            "Epoch 14/100\n",
            "366/366 [==============================] - 1s 1ms/step - loss: 766157632.0000 - mean_squared_error: 766157632.0000\n",
            "Epoch 15/100\n",
            "366/366 [==============================] - 1s 1ms/step - loss: 765991936.0000 - mean_squared_error: 765991936.0000\n",
            "Epoch 16/100\n",
            "366/366 [==============================] - 1s 1ms/step - loss: 765825856.0000 - mean_squared_error: 765825856.0000\n",
            "Epoch 17/100\n",
            "366/366 [==============================] - 1s 1ms/step - loss: 765660544.0000 - mean_squared_error: 765660544.0000\n",
            "Epoch 18/100\n",
            "366/366 [==============================] - 1s 1ms/step - loss: 765500800.0000 - mean_squared_error: 765500800.0000\n",
            "Epoch 19/100\n",
            "366/366 [==============================] - 1s 1ms/step - loss: 765335808.0000 - mean_squared_error: 765335808.0000\n",
            "Epoch 20/100\n",
            "366/366 [==============================] - 1s 2ms/step - loss: 765181568.0000 - mean_squared_error: 765181568.0000\n",
            "Epoch 21/100\n",
            "366/366 [==============================] - 1s 1ms/step - loss: 765037504.0000 - mean_squared_error: 765037504.0000\n",
            "Epoch 22/100\n",
            "366/366 [==============================] - 1s 1ms/step - loss: 764908224.0000 - mean_squared_error: 764908224.0000\n",
            "Epoch 23/100\n",
            "366/366 [==============================] - 1s 1ms/step - loss: 764787328.0000 - mean_squared_error: 764787328.0000\n",
            "Epoch 24/100\n",
            "366/366 [==============================] - 1s 1ms/step - loss: 764675200.0000 - mean_squared_error: 764675200.0000\n",
            "Epoch 25/100\n",
            "366/366 [==============================] - 1s 1ms/step - loss: 764566208.0000 - mean_squared_error: 764566208.0000\n",
            "Epoch 26/100\n",
            "366/366 [==============================] - 1s 2ms/step - loss: 764471488.0000 - mean_squared_error: 764471488.0000\n",
            "Epoch 27/100\n",
            "366/366 [==============================] - 1s 1ms/step - loss: 764382976.0000 - mean_squared_error: 764382976.0000\n",
            "Epoch 28/100\n",
            "366/366 [==============================] - 1s 1ms/step - loss: 764304768.0000 - mean_squared_error: 764304768.0000\n",
            "Epoch 29/100\n",
            "366/366 [==============================] - 1s 1ms/step - loss: 764237440.0000 - mean_squared_error: 764237440.0000\n",
            "Epoch 30/100\n",
            "366/366 [==============================] - 1s 1ms/step - loss: 764173312.0000 - mean_squared_error: 764173312.0000\n",
            "Epoch 31/100\n",
            "366/366 [==============================] - 1s 1ms/step - loss: 764115520.0000 - mean_squared_error: 764115520.0000\n",
            "Epoch 32/100\n",
            "366/366 [==============================] - 1s 1ms/step - loss: 764066048.0000 - mean_squared_error: 764066048.0000\n",
            "Epoch 33/100\n",
            "366/366 [==============================] - 1s 1ms/step - loss: 764021696.0000 - mean_squared_error: 764021696.0000\n",
            "Epoch 34/100\n",
            "366/366 [==============================] - 1s 1ms/step - loss: 763982208.0000 - mean_squared_error: 763982208.0000\n",
            "Epoch 35/100\n",
            "366/366 [==============================] - 1s 1ms/step - loss: 763947776.0000 - mean_squared_error: 763947776.0000\n",
            "Epoch 36/100\n",
            "366/366 [==============================] - 1s 1ms/step - loss: 763915904.0000 - mean_squared_error: 763915904.0000\n",
            "Epoch 37/100\n",
            "366/366 [==============================] - 1s 2ms/step - loss: 763888704.0000 - mean_squared_error: 763888704.0000\n",
            "Epoch 38/100\n",
            "366/366 [==============================] - 1s 1ms/step - loss: 763864512.0000 - mean_squared_error: 763864512.0000\n",
            "Epoch 39/100\n",
            "366/366 [==============================] - 1s 2ms/step - loss: 763842688.0000 - mean_squared_error: 763842688.0000\n",
            "Epoch 40/100\n",
            "366/366 [==============================] - 1s 1ms/step - loss: 763822208.0000 - mean_squared_error: 763822208.0000\n",
            "Epoch 41/100\n",
            "366/366 [==============================] - 1s 1ms/step - loss: 763806656.0000 - mean_squared_error: 763806656.0000\n",
            "Epoch 42/100\n",
            "366/366 [==============================] - 1s 2ms/step - loss: 763793920.0000 - mean_squared_error: 763793920.0000\n",
            "Epoch 43/100\n",
            "366/366 [==============================] - 1s 1ms/step - loss: 763780608.0000 - mean_squared_error: 763780608.0000\n",
            "Epoch 44/100\n",
            "366/366 [==============================] - 1s 2ms/step - loss: 763768128.0000 - mean_squared_error: 763768128.0000\n",
            "Epoch 45/100\n",
            "366/366 [==============================] - 1s 2ms/step - loss: 763757120.0000 - mean_squared_error: 763757120.0000\n",
            "Epoch 46/100\n",
            "366/366 [==============================] - 1s 2ms/step - loss: 763746816.0000 - mean_squared_error: 763746816.0000\n",
            "Epoch 47/100\n",
            "366/366 [==============================] - 1s 1ms/step - loss: 763736896.0000 - mean_squared_error: 763736896.0000\n",
            "Epoch 48/100\n",
            "366/366 [==============================] - 1s 1ms/step - loss: 763728704.0000 - mean_squared_error: 763728704.0000\n",
            "Epoch 49/100\n",
            "366/366 [==============================] - 1s 2ms/step - loss: 763720576.0000 - mean_squared_error: 763720576.0000\n",
            "Epoch 50/100\n",
            "366/366 [==============================] - 1s 1ms/step - loss: 763713600.0000 - mean_squared_error: 763713600.0000\n",
            "Epoch 51/100\n",
            "366/366 [==============================] - 1s 1ms/step - loss: 763707968.0000 - mean_squared_error: 763707968.0000\n",
            "Epoch 52/100\n",
            "366/366 [==============================] - 1s 1ms/step - loss: 763703360.0000 - mean_squared_error: 763703360.0000\n",
            "Epoch 53/100\n",
            "366/366 [==============================] - 1s 2ms/step - loss: 763697664.0000 - mean_squared_error: 763697664.0000\n",
            "Epoch 54/100\n",
            "366/366 [==============================] - 1s 2ms/step - loss: 763690240.0000 - mean_squared_error: 763690240.0000\n",
            "Epoch 55/100\n",
            "366/366 [==============================] - 1s 2ms/step - loss: 763684416.0000 - mean_squared_error: 763684416.0000\n",
            "Epoch 56/100\n",
            "366/366 [==============================] - 1s 1ms/step - loss: 763678464.0000 - mean_squared_error: 763678464.0000\n",
            "Epoch 57/100\n",
            "366/366 [==============================] - 1s 2ms/step - loss: 763671936.0000 - mean_squared_error: 763671936.0000\n",
            "Epoch 58/100\n",
            "366/366 [==============================] - 1s 2ms/step - loss: 763667136.0000 - mean_squared_error: 763667136.0000\n",
            "Epoch 59/100\n",
            "366/366 [==============================] - 1s 2ms/step - loss: 763662976.0000 - mean_squared_error: 763662976.0000\n",
            "Epoch 60/100\n",
            "366/366 [==============================] - 1s 1ms/step - loss: 763658624.0000 - mean_squared_error: 763658624.0000\n",
            "Epoch 61/100\n",
            "366/366 [==============================] - 1s 1ms/step - loss: 763654144.0000 - mean_squared_error: 763654144.0000\n",
            "Epoch 62/100\n",
            "366/366 [==============================] - 1s 1ms/step - loss: 763652800.0000 - mean_squared_error: 763652800.0000\n",
            "Epoch 63/100\n",
            "366/366 [==============================] - 1s 1ms/step - loss: 763644544.0000 - mean_squared_error: 763644544.0000\n",
            "Epoch 64/100\n",
            "366/366 [==============================] - 1s 2ms/step - loss: 763640448.0000 - mean_squared_error: 763640448.0000\n",
            "Epoch 65/100\n",
            "366/366 [==============================] - 1s 2ms/step - loss: 763636864.0000 - mean_squared_error: 763636864.0000\n",
            "Epoch 66/100\n",
            "366/366 [==============================] - 1s 2ms/step - loss: 763632000.0000 - mean_squared_error: 763632000.0000\n",
            "Epoch 67/100\n",
            "366/366 [==============================] - 1s 1ms/step - loss: 763630144.0000 - mean_squared_error: 763630144.0000\n",
            "Epoch 68/100\n",
            "366/366 [==============================] - 1s 2ms/step - loss: 763623616.0000 - mean_squared_error: 763623616.0000\n",
            "Epoch 69/100\n",
            "366/366 [==============================] - 1s 2ms/step - loss: 763623424.0000 - mean_squared_error: 763623424.0000\n",
            "Epoch 70/100\n",
            "366/366 [==============================] - 1s 1ms/step - loss: 763613440.0000 - mean_squared_error: 763613440.0000\n",
            "Epoch 71/100\n",
            "366/366 [==============================] - 1s 2ms/step - loss: 763612416.0000 - mean_squared_error: 763612416.0000\n",
            "Epoch 72/100\n",
            "366/366 [==============================] - 1s 1ms/step - loss: 763605888.0000 - mean_squared_error: 763605888.0000\n",
            "Epoch 73/100\n",
            "366/366 [==============================] - 1s 1ms/step - loss: 763601920.0000 - mean_squared_error: 763601920.0000\n",
            "Epoch 74/100\n",
            "366/366 [==============================] - 1s 2ms/step - loss: 763598080.0000 - mean_squared_error: 763598080.0000\n",
            "Epoch 75/100\n",
            "366/366 [==============================] - 1s 1ms/step - loss: 763595648.0000 - mean_squared_error: 763595648.0000\n",
            "Epoch 76/100\n",
            "366/366 [==============================] - 1s 1ms/step - loss: 763592128.0000 - mean_squared_error: 763592128.0000\n",
            "Epoch 77/100\n",
            "366/366 [==============================] - 1s 2ms/step - loss: 763587136.0000 - mean_squared_error: 763587136.0000\n",
            "Epoch 78/100\n",
            "366/366 [==============================] - 1s 2ms/step - loss: 763583616.0000 - mean_squared_error: 763583616.0000\n",
            "Epoch 79/100\n",
            "366/366 [==============================] - 1s 2ms/step - loss: 763580096.0000 - mean_squared_error: 763580096.0000\n",
            "Epoch 80/100\n",
            "366/366 [==============================] - 1s 1ms/step - loss: 763573056.0000 - mean_squared_error: 763573056.0000\n",
            "Epoch 81/100\n",
            "366/366 [==============================] - 1s 2ms/step - loss: 763572352.0000 - mean_squared_error: 763572352.0000\n",
            "Epoch 82/100\n",
            "366/366 [==============================] - 1s 2ms/step - loss: 763565184.0000 - mean_squared_error: 763565184.0000\n",
            "Epoch 83/100\n",
            "366/366 [==============================] - 1s 1ms/step - loss: 763561344.0000 - mean_squared_error: 763561344.0000\n",
            "Epoch 84/100\n",
            "366/366 [==============================] - 1s 1ms/step - loss: 763558144.0000 - mean_squared_error: 763558144.0000\n",
            "Epoch 85/100\n",
            "366/366 [==============================] - 1s 2ms/step - loss: 763554816.0000 - mean_squared_error: 763554816.0000\n",
            "Epoch 86/100\n",
            "366/366 [==============================] - 1s 4ms/step - loss: 763552576.0000 - mean_squared_error: 763552576.0000\n",
            "Epoch 87/100\n",
            "366/366 [==============================] - 1s 4ms/step - loss: 763545600.0000 - mean_squared_error: 763545600.0000\n",
            "Epoch 88/100\n",
            "366/366 [==============================] - 1s 4ms/step - loss: 763541184.0000 - mean_squared_error: 763541184.0000\n",
            "Epoch 89/100\n",
            "366/366 [==============================] - 1s 3ms/step - loss: 763538240.0000 - mean_squared_error: 763538240.0000\n",
            "Epoch 90/100\n",
            "366/366 [==============================] - 1s 3ms/step - loss: 763532800.0000 - mean_squared_error: 763532800.0000\n",
            "Epoch 91/100\n",
            "366/366 [==============================] - 1s 3ms/step - loss: 763528384.0000 - mean_squared_error: 763528384.0000\n",
            "Epoch 92/100\n",
            "366/366 [==============================] - 1s 3ms/step - loss: 763524352.0000 - mean_squared_error: 763524352.0000\n",
            "Epoch 93/100\n",
            "366/366 [==============================] - 1s 3ms/step - loss: 763520512.0000 - mean_squared_error: 763520512.0000\n",
            "Epoch 94/100\n",
            "366/366 [==============================] - 1s 4ms/step - loss: 763515648.0000 - mean_squared_error: 763515648.0000\n",
            "Epoch 95/100\n",
            "366/366 [==============================] - 1s 4ms/step - loss: 763513600.0000 - mean_squared_error: 763513600.0000\n",
            "Epoch 96/100\n",
            "366/366 [==============================] - 1s 3ms/step - loss: 763508416.0000 - mean_squared_error: 763508416.0000\n",
            "Epoch 97/100\n",
            "366/366 [==============================] - 1s 3ms/step - loss: 763505536.0000 - mean_squared_error: 763505536.0000\n",
            "Epoch 98/100\n",
            "366/366 [==============================] - 1s 3ms/step - loss: 763500736.0000 - mean_squared_error: 763500736.0000\n",
            "Epoch 99/100\n",
            "366/366 [==============================] - 1s 3ms/step - loss: 763498624.0000 - mean_squared_error: 763498624.0000\n",
            "Epoch 100/100\n",
            "366/366 [==============================] - 1s 2ms/step - loss: 763491072.0000 - mean_squared_error: 763491072.0000\n",
            "Model: \"sequential\"\n",
            "_________________________________________________________________\n",
            " Layer (type)                Output Shape              Param #   \n",
            "=================================================================\n",
            " dense (Dense)               (None, 8)                 48        \n",
            "                                                                 \n",
            " dense_1 (Dense)             (None, 8)                 72        \n",
            "                                                                 \n",
            " dense_2 (Dense)             (None, 1)                 9         \n",
            "                                                                 \n",
            "=================================================================\n",
            "Total params: 129\n",
            "Trainable params: 129\n",
            "Non-trainable params: 0\n",
            "_________________________________________________________________\n",
            "Mean Absolute Error:  3385.4809040632404\n",
            "Mean Squared Error:  829765989.2122673\n",
            "Root mean squared error:  28805.65897896223\n",
            "R2_score:  0.001256509434002906\n"
          ]
        }
      ],
      "source": [
        "ann = keras.models.Sequential([\n",
        "                               Dense(8, activation=\"relu\",input_shape=X_train.shape[1:]),\n",
        "                               Dense(8,activation=\"relu\"),Dense(1)\n",
        "                               ])\n",
        "\n",
        "optimizer=tf.keras.optimizers.Adam()\n",
        "loss=keras.losses.mean_squared_error\n",
        "ann.compile(optimizer=optimizer,loss=loss,metrics=[\"mean_squared_error\"])\n",
        "history=ann.fit(X_train,y_train,epochs=100)\n",
        "ann.summary()\n",
        "performance(X_test,y_test,ann)"
      ]
    },
    {
      "cell_type": "code",
      "execution_count": 35,
      "metadata": {
        "id": "jk5Y_CGZduqh",
        "colab": {
          "base_uri": "https://localhost:8080/"
        },
        "outputId": "c13c2cee-7dc6-4d15-f18a-60f4ceee911b"
      },
      "outputs": [
        {
          "output_type": "execute_result",
          "data": {
            "text/plain": [
              "['decisiontree_youtubeadview.pkl']"
            ]
          },
          "metadata": {},
          "execution_count": 35
        }
      ],
      "source": [
        "import joblib\n",
        "joblib.dump(decision_tree, \"decisiontree_youtubeadview.pkl\")"
      ]
    },
    {
      "cell_type": "code",
      "source": [
        "ann.save(\"ann_youtubeadview.h5\")"
      ],
      "metadata": {
        "id": "p0dYYd4y8bnL"
      },
      "execution_count": 36,
      "outputs": []
    },
    {
      "cell_type": "code",
      "source": [
        "from keras.models import load_model\n",
        "model_ann = load_model(\"ann_youtubeadview.h5\")"
      ],
      "metadata": {
        "id": "vyM9fVEc8hyQ"
      },
      "execution_count": 37,
      "outputs": []
    },
    {
      "cell_type": "code",
      "source": [
        "model_tree= joblib.load(\"decisiontree_youtubeadview.pkl\")"
      ],
      "metadata": {
        "id": "LMO2zUC5AIBw"
      },
      "execution_count": 38,
      "outputs": []
    },
    {
      "cell_type": "code",
      "source": [
        "data_test = pd.read_csv ('test.csv')"
      ],
      "metadata": {
        "id": "Cg7QCc-B7zpS"
      },
      "execution_count": 39,
      "outputs": []
    },
    {
      "cell_type": "code",
      "source": [
        "from sklearn import preprocessing\n",
        "le = preprocessing.LabelEncoder()\n",
        "data_test[\"category\"]=le.fit_transform(data_test[\"category\"])"
      ],
      "metadata": {
        "id": "m8xf_BJe9MTW"
      },
      "execution_count": 40,
      "outputs": []
    },
    {
      "cell_type": "code",
      "source": [
        "data_test = data_test[data_test.views!='F']\n",
        "data_test = data_test[data_test.likes!='F']\n",
        "data_test = data_test[data_test.dislikes!='F']\n",
        "data_test = data_test[data_test.comment!='F']\n",
        "\n",
        "data_test['views'] = pd.to_numeric(data_test['views'])\n",
        "data_test['likes'] = pd.to_numeric(data_test['likes'])\n",
        "data_test['dislikes'] = pd.to_numeric(data_test['dislikes'])\n",
        "data_test['comment'] = pd.to_numeric(data_test['comment'])\n",
        "\n",
        "column_vidid = data_test['vidid']\n",
        "data_test[\"vidid\"]=le.fit_transform(data_test[\"vidid\"])\n",
        "data_test[\"published\"]=le.fit_transform(data_test[\"published\"])"
      ],
      "metadata": {
        "id": "hERUYp769ee1"
      },
      "execution_count": 41,
      "outputs": []
    },
    {
      "cell_type": "code",
      "source": [
        "duration = list(data_test['duration'])\n",
        "for i in range(len(duration)):\n",
        "  duration[i]=duration[i][2:]\n",
        "for i in range(len(duration)):\n",
        "  h=m=s=value=0\n",
        "  for j in duration[i]:\n",
        "    if j=='H':\n",
        "      h=value\n",
        "      value=0\n",
        "    elif j=='M':\n",
        "      m=value\n",
        "      value=0\n",
        "    elif j=='S':\n",
        "      s=value\n",
        "      value=0\n",
        "    else:\n",
        "      value = (value*10)+int(j)\n",
        "  time_duration=(h*3600)+(m*60)+s\n",
        "  duration[i] = time_duration"
      ],
      "metadata": {
        "id": "_X6J_ofJ-I_N"
      },
      "execution_count": 42,
      "outputs": []
    },
    {
      "cell_type": "code",
      "source": [
        "duration=pd.Series(duration)\n",
        "data_test['duration']=duration.values"
      ],
      "metadata": {
        "id": "ZcZ88Hbc-WPe"
      },
      "execution_count": 43,
      "outputs": []
    },
    {
      "cell_type": "code",
      "source": [
        "data_test = data_test.drop(['vidid'],axis=1)\n",
        "data_test = data_test.drop(['category'],axis=1)\n",
        "data_test = data_test.drop(['duration'],axis=1)\n",
        "data_test.head()"
      ],
      "metadata": {
        "colab": {
          "base_uri": "https://localhost:8080/",
          "height": 206
        },
        "id": "gGPuVOlO-cNo",
        "outputId": "b2c995fd-ff5b-41ae-df4c-3d275845c4ba"
      },
      "execution_count": 44,
      "outputs": [
        {
          "output_type": "execute_result",
          "data": {
            "text/plain": [
              "     views  likes  dislikes  comment  published\n",
              "0   440238   6153       218     1377       2053\n",
              "1  1040132   8171       340     1047       1825\n",
              "2    28534     31        11        1       1009\n",
              "3  1316715   2284       250      274        116\n",
              "4  1893173   2519       225      116       1892"
            ],
            "text/html": [
              "\n",
              "  <div id=\"df-0025fd78-183d-4633-946e-55ba2a3cbaf2\">\n",
              "    <div class=\"colab-df-container\">\n",
              "      <div>\n",
              "<style scoped>\n",
              "    .dataframe tbody tr th:only-of-type {\n",
              "        vertical-align: middle;\n",
              "    }\n",
              "\n",
              "    .dataframe tbody tr th {\n",
              "        vertical-align: top;\n",
              "    }\n",
              "\n",
              "    .dataframe thead th {\n",
              "        text-align: right;\n",
              "    }\n",
              "</style>\n",
              "<table border=\"1\" class=\"dataframe\">\n",
              "  <thead>\n",
              "    <tr style=\"text-align: right;\">\n",
              "      <th></th>\n",
              "      <th>views</th>\n",
              "      <th>likes</th>\n",
              "      <th>dislikes</th>\n",
              "      <th>comment</th>\n",
              "      <th>published</th>\n",
              "    </tr>\n",
              "  </thead>\n",
              "  <tbody>\n",
              "    <tr>\n",
              "      <th>0</th>\n",
              "      <td>440238</td>\n",
              "      <td>6153</td>\n",
              "      <td>218</td>\n",
              "      <td>1377</td>\n",
              "      <td>2053</td>\n",
              "    </tr>\n",
              "    <tr>\n",
              "      <th>1</th>\n",
              "      <td>1040132</td>\n",
              "      <td>8171</td>\n",
              "      <td>340</td>\n",
              "      <td>1047</td>\n",
              "      <td>1825</td>\n",
              "    </tr>\n",
              "    <tr>\n",
              "      <th>2</th>\n",
              "      <td>28534</td>\n",
              "      <td>31</td>\n",
              "      <td>11</td>\n",
              "      <td>1</td>\n",
              "      <td>1009</td>\n",
              "    </tr>\n",
              "    <tr>\n",
              "      <th>3</th>\n",
              "      <td>1316715</td>\n",
              "      <td>2284</td>\n",
              "      <td>250</td>\n",
              "      <td>274</td>\n",
              "      <td>116</td>\n",
              "    </tr>\n",
              "    <tr>\n",
              "      <th>4</th>\n",
              "      <td>1893173</td>\n",
              "      <td>2519</td>\n",
              "      <td>225</td>\n",
              "      <td>116</td>\n",
              "      <td>1892</td>\n",
              "    </tr>\n",
              "  </tbody>\n",
              "</table>\n",
              "</div>\n",
              "      <button class=\"colab-df-convert\" onclick=\"convertToInteractive('df-0025fd78-183d-4633-946e-55ba2a3cbaf2')\"\n",
              "              title=\"Convert this dataframe to an interactive table.\"\n",
              "              style=\"display:none;\">\n",
              "        \n",
              "  <svg xmlns=\"http://www.w3.org/2000/svg\" height=\"24px\"viewBox=\"0 0 24 24\"\n",
              "       width=\"24px\">\n",
              "    <path d=\"M0 0h24v24H0V0z\" fill=\"none\"/>\n",
              "    <path d=\"M18.56 5.44l.94 2.06.94-2.06 2.06-.94-2.06-.94-.94-2.06-.94 2.06-2.06.94zm-11 1L8.5 8.5l.94-2.06 2.06-.94-2.06-.94L8.5 2.5l-.94 2.06-2.06.94zm10 10l.94 2.06.94-2.06 2.06-.94-2.06-.94-.94-2.06-.94 2.06-2.06.94z\"/><path d=\"M17.41 7.96l-1.37-1.37c-.4-.4-.92-.59-1.43-.59-.52 0-1.04.2-1.43.59L10.3 9.45l-7.72 7.72c-.78.78-.78 2.05 0 2.83L4 21.41c.39.39.9.59 1.41.59.51 0 1.02-.2 1.41-.59l7.78-7.78 2.81-2.81c.8-.78.8-2.07 0-2.86zM5.41 20L4 18.59l7.72-7.72 1.47 1.35L5.41 20z\"/>\n",
              "  </svg>\n",
              "      </button>\n",
              "      \n",
              "  <style>\n",
              "    .colab-df-container {\n",
              "      display:flex;\n",
              "      flex-wrap:wrap;\n",
              "      gap: 12px;\n",
              "    }\n",
              "\n",
              "    .colab-df-convert {\n",
              "      background-color: #E8F0FE;\n",
              "      border: none;\n",
              "      border-radius: 50%;\n",
              "      cursor: pointer;\n",
              "      display: none;\n",
              "      fill: #1967D2;\n",
              "      height: 32px;\n",
              "      padding: 0 0 0 0;\n",
              "      width: 32px;\n",
              "    }\n",
              "\n",
              "    .colab-df-convert:hover {\n",
              "      background-color: #E2EBFA;\n",
              "      box-shadow: 0px 1px 2px rgba(60, 64, 67, 0.3), 0px 1px 3px 1px rgba(60, 64, 67, 0.15);\n",
              "      fill: #174EA6;\n",
              "    }\n",
              "\n",
              "    [theme=dark] .colab-df-convert {\n",
              "      background-color: #3B4455;\n",
              "      fill: #D2E3FC;\n",
              "    }\n",
              "\n",
              "    [theme=dark] .colab-df-convert:hover {\n",
              "      background-color: #434B5C;\n",
              "      box-shadow: 0px 1px 3px 1px rgba(0, 0, 0, 0.15);\n",
              "      filter: drop-shadow(0px 1px 2px rgba(0, 0, 0, 0.3));\n",
              "      fill: #FFFFFF;\n",
              "    }\n",
              "  </style>\n",
              "\n",
              "      <script>\n",
              "        const buttonEl =\n",
              "          document.querySelector('#df-0025fd78-183d-4633-946e-55ba2a3cbaf2 button.colab-df-convert');\n",
              "        buttonEl.style.display =\n",
              "          google.colab.kernel.accessAllowed ? 'block' : 'none';\n",
              "\n",
              "        async function convertToInteractive(key) {\n",
              "          const element = document.querySelector('#df-0025fd78-183d-4633-946e-55ba2a3cbaf2');\n",
              "          const dataTable =\n",
              "            await google.colab.kernel.invokeFunction('convertToInteractive',\n",
              "                                                     [key], {});\n",
              "          if (!dataTable) return;\n",
              "\n",
              "          const docLinkHtml = 'Like what you see? Visit the ' +\n",
              "            '<a target=\"_blank\" href=https://colab.research.google.com/notebooks/data_table.ipynb>data table notebook</a>'\n",
              "            + ' to learn more about interactive tables.';\n",
              "          element.innerHTML = '';\n",
              "          dataTable['output_type'] = 'display_data';\n",
              "          await google.colab.output.renderOutput(dataTable, element);\n",
              "          const docLink = document.createElement('div');\n",
              "          docLink.innerHTML = docLinkHtml;\n",
              "          element.appendChild(docLink);\n",
              "        }\n",
              "      </script>\n",
              "    </div>\n",
              "  </div>\n",
              "  "
            ]
          },
          "metadata": {},
          "execution_count": 44
        }
      ]
    },
    {
      "cell_type": "code",
      "source": [
        "from sklearn.preprocessing import MinMaxScaler\n",
        "scaler = MinMaxScaler()\n",
        "X_test = data_test\n",
        "X_test=scaler.fit_transform(X_test)"
      ],
      "metadata": {
        "id": "sdbatftfBPp9"
      },
      "execution_count": 45,
      "outputs": []
    },
    {
      "cell_type": "code",
      "source": [
        "prediction_ann = model_ann.predict(X_test)"
      ],
      "metadata": {
        "id": "fwZRqMbU-r_D"
      },
      "execution_count": 46,
      "outputs": []
    },
    {
      "cell_type": "code",
      "source": [
        "predict_tree = model_tree.predict(X_test)"
      ],
      "metadata": {
        "id": "reWGHEAfAB4s"
      },
      "execution_count": 47,
      "outputs": []
    },
    {
      "cell_type": "code",
      "source": [
        "predict_tree[:100]"
      ],
      "metadata": {
        "colab": {
          "base_uri": "https://localhost:8080/"
        },
        "id": "-omsJLQcA3-v",
        "outputId": "21b85a96-2a62-4d91-ebcc-5e5efaa9601d"
      },
      "execution_count": 48,
      "outputs": [
        {
          "output_type": "execute_result",
          "data": {
            "text/plain": [
              "array([1.0000e+00, 1.0000e+00, 4.0000e+00, 5.8000e+01, 1.5000e+01,\n",
              "       1.0000e+00, 1.0000e+00, 1.0000e+00, 2.0000e+00, 5.0000e+00,\n",
              "       1.4000e+01, 1.0000e+00, 3.5050e+03, 8.0000e+00, 1.0000e+00,\n",
              "       1.0000e+00, 2.0000e+00, 5.0000e+00, 6.0000e+00, 6.0000e+00,\n",
              "       1.0000e+00, 1.0000e+00, 4.0000e+00, 5.0000e+00, 1.0000e+00,\n",
              "       1.0000e+00, 1.0000e+00, 3.0000e+00, 6.0000e+00, 1.0000e+00,\n",
              "       3.0000e+00, 1.0000e+00, 8.0000e+00, 2.0000e+00, 1.0000e+00,\n",
              "       4.7100e+02, 1.3038e+04, 1.0000e+00, 1.0000e+00, 1.4000e+02,\n",
              "       1.3000e+01, 6.0000e+00, 1.0000e+00, 9.0000e+00, 2.0000e+00,\n",
              "       1.0000e+00, 2.0000e+00, 7.0000e+00, 1.0000e+00, 1.6000e+01,\n",
              "       3.1229e+04, 2.0000e+00, 1.0000e+00, 2.0000e+00, 1.0000e+00,\n",
              "       1.0000e+00, 6.0000e+00, 1.0000e+00, 1.0000e+00, 1.0000e+00,\n",
              "       2.7780e+04, 1.0000e+00, 2.0000e+00, 2.0000e+00, 2.5667e+04,\n",
              "       1.0000e+00, 1.0000e+00, 1.0000e+00, 2.0000e+00, 2.0000e+00,\n",
              "       1.0000e+00, 1.0000e+00, 5.4000e+01, 7.0000e+00, 1.0000e+00,\n",
              "       2.0000e+00, 3.0000e+00, 2.0000e+00, 1.0000e+00, 3.0000e+00,\n",
              "       2.0000e+00, 1.0000e+00, 1.0000e+00, 5.0000e+00, 2.0000e+00,\n",
              "       1.0000e+00, 2.0000e+00, 9.0000e+00, 6.0000e+00, 2.0000e+00,\n",
              "       1.0000e+00, 1.0000e+00, 2.0000e+00, 4.0000e+00, 1.0000e+00,\n",
              "       1.0000e+00, 1.0000e+00, 1.7000e+01, 1.1000e+01, 8.0000e+00])"
            ]
          },
          "metadata": {},
          "execution_count": 48
        }
      ]
    },
    {
      "cell_type": "code",
      "source": [
        "prediction=pd.DataFrame(predict_tree)"
      ],
      "metadata": {
        "id": "itU1oQMWA8Dp"
      },
      "execution_count": 49,
      "outputs": []
    },
    {
      "cell_type": "code",
      "source": [
        "prediction.info()"
      ],
      "metadata": {
        "colab": {
          "base_uri": "https://localhost:8080/"
        },
        "id": "meNL9SfLB66L",
        "outputId": "cb008653-7a80-4dd4-d0c0-95d7f6ea7340"
      },
      "execution_count": 50,
      "outputs": [
        {
          "output_type": "stream",
          "name": "stdout",
          "text": [
            "<class 'pandas.core.frame.DataFrame'>\n",
            "RangeIndex: 8549 entries, 0 to 8548\n",
            "Data columns (total 1 columns):\n",
            " #   Column  Non-Null Count  Dtype  \n",
            "---  ------  --------------  -----  \n",
            " 0   0       8549 non-null   float64\n",
            "dtypes: float64(1)\n",
            "memory usage: 66.9 KB\n"
          ]
        }
      ]
    },
    {
      "cell_type": "code",
      "source": [
        "prediction = prediction.rename(columns={0: \"Adview\"})"
      ],
      "metadata": {
        "id": "EFkVZQ5AB9wM"
      },
      "execution_count": 51,
      "outputs": []
    },
    {
      "cell_type": "code",
      "source": [
        "prediction.head()"
      ],
      "metadata": {
        "colab": {
          "base_uri": "https://localhost:8080/",
          "height": 206
        },
        "id": "TUrvAzMFCAvW",
        "outputId": "45c4afb7-e2ee-4f12-cae3-0dbcfcb6fb6e"
      },
      "execution_count": 52,
      "outputs": [
        {
          "output_type": "execute_result",
          "data": {
            "text/plain": [
              "   Adview\n",
              "0     1.0\n",
              "1     1.0\n",
              "2     4.0\n",
              "3    58.0\n",
              "4    15.0"
            ],
            "text/html": [
              "\n",
              "  <div id=\"df-ba2612d2-b3e3-4bbf-a594-763c3916370c\">\n",
              "    <div class=\"colab-df-container\">\n",
              "      <div>\n",
              "<style scoped>\n",
              "    .dataframe tbody tr th:only-of-type {\n",
              "        vertical-align: middle;\n",
              "    }\n",
              "\n",
              "    .dataframe tbody tr th {\n",
              "        vertical-align: top;\n",
              "    }\n",
              "\n",
              "    .dataframe thead th {\n",
              "        text-align: right;\n",
              "    }\n",
              "</style>\n",
              "<table border=\"1\" class=\"dataframe\">\n",
              "  <thead>\n",
              "    <tr style=\"text-align: right;\">\n",
              "      <th></th>\n",
              "      <th>Adview</th>\n",
              "    </tr>\n",
              "  </thead>\n",
              "  <tbody>\n",
              "    <tr>\n",
              "      <th>0</th>\n",
              "      <td>1.0</td>\n",
              "    </tr>\n",
              "    <tr>\n",
              "      <th>1</th>\n",
              "      <td>1.0</td>\n",
              "    </tr>\n",
              "    <tr>\n",
              "      <th>2</th>\n",
              "      <td>4.0</td>\n",
              "    </tr>\n",
              "    <tr>\n",
              "      <th>3</th>\n",
              "      <td>58.0</td>\n",
              "    </tr>\n",
              "    <tr>\n",
              "      <th>4</th>\n",
              "      <td>15.0</td>\n",
              "    </tr>\n",
              "  </tbody>\n",
              "</table>\n",
              "</div>\n",
              "      <button class=\"colab-df-convert\" onclick=\"convertToInteractive('df-ba2612d2-b3e3-4bbf-a594-763c3916370c')\"\n",
              "              title=\"Convert this dataframe to an interactive table.\"\n",
              "              style=\"display:none;\">\n",
              "        \n",
              "  <svg xmlns=\"http://www.w3.org/2000/svg\" height=\"24px\"viewBox=\"0 0 24 24\"\n",
              "       width=\"24px\">\n",
              "    <path d=\"M0 0h24v24H0V0z\" fill=\"none\"/>\n",
              "    <path d=\"M18.56 5.44l.94 2.06.94-2.06 2.06-.94-2.06-.94-.94-2.06-.94 2.06-2.06.94zm-11 1L8.5 8.5l.94-2.06 2.06-.94-2.06-.94L8.5 2.5l-.94 2.06-2.06.94zm10 10l.94 2.06.94-2.06 2.06-.94-2.06-.94-.94-2.06-.94 2.06-2.06.94z\"/><path d=\"M17.41 7.96l-1.37-1.37c-.4-.4-.92-.59-1.43-.59-.52 0-1.04.2-1.43.59L10.3 9.45l-7.72 7.72c-.78.78-.78 2.05 0 2.83L4 21.41c.39.39.9.59 1.41.59.51 0 1.02-.2 1.41-.59l7.78-7.78 2.81-2.81c.8-.78.8-2.07 0-2.86zM5.41 20L4 18.59l7.72-7.72 1.47 1.35L5.41 20z\"/>\n",
              "  </svg>\n",
              "      </button>\n",
              "      \n",
              "  <style>\n",
              "    .colab-df-container {\n",
              "      display:flex;\n",
              "      flex-wrap:wrap;\n",
              "      gap: 12px;\n",
              "    }\n",
              "\n",
              "    .colab-df-convert {\n",
              "      background-color: #E8F0FE;\n",
              "      border: none;\n",
              "      border-radius: 50%;\n",
              "      cursor: pointer;\n",
              "      display: none;\n",
              "      fill: #1967D2;\n",
              "      height: 32px;\n",
              "      padding: 0 0 0 0;\n",
              "      width: 32px;\n",
              "    }\n",
              "\n",
              "    .colab-df-convert:hover {\n",
              "      background-color: #E2EBFA;\n",
              "      box-shadow: 0px 1px 2px rgba(60, 64, 67, 0.3), 0px 1px 3px 1px rgba(60, 64, 67, 0.15);\n",
              "      fill: #174EA6;\n",
              "    }\n",
              "\n",
              "    [theme=dark] .colab-df-convert {\n",
              "      background-color: #3B4455;\n",
              "      fill: #D2E3FC;\n",
              "    }\n",
              "\n",
              "    [theme=dark] .colab-df-convert:hover {\n",
              "      background-color: #434B5C;\n",
              "      box-shadow: 0px 1px 3px 1px rgba(0, 0, 0, 0.15);\n",
              "      filter: drop-shadow(0px 1px 2px rgba(0, 0, 0, 0.3));\n",
              "      fill: #FFFFFF;\n",
              "    }\n",
              "  </style>\n",
              "\n",
              "      <script>\n",
              "        const buttonEl =\n",
              "          document.querySelector('#df-ba2612d2-b3e3-4bbf-a594-763c3916370c button.colab-df-convert');\n",
              "        buttonEl.style.display =\n",
              "          google.colab.kernel.accessAllowed ? 'block' : 'none';\n",
              "\n",
              "        async function convertToInteractive(key) {\n",
              "          const element = document.querySelector('#df-ba2612d2-b3e3-4bbf-a594-763c3916370c');\n",
              "          const dataTable =\n",
              "            await google.colab.kernel.invokeFunction('convertToInteractive',\n",
              "                                                     [key], {});\n",
              "          if (!dataTable) return;\n",
              "\n",
              "          const docLinkHtml = 'Like what you see? Visit the ' +\n",
              "            '<a target=\"_blank\" href=https://colab.research.google.com/notebooks/data_table.ipynb>data table notebook</a>'\n",
              "            + ' to learn more about interactive tables.';\n",
              "          element.innerHTML = '';\n",
              "          dataTable['output_type'] = 'display_data';\n",
              "          await google.colab.output.renderOutput(dataTable, element);\n",
              "          const docLink = document.createElement('div');\n",
              "          docLink.innerHTML = docLinkHtml;\n",
              "          element.appendChild(docLink);\n",
              "        }\n",
              "      </script>\n",
              "    </div>\n",
              "  </div>\n",
              "  "
            ]
          },
          "metadata": {},
          "execution_count": 52
        }
      ]
    },
    {
      "cell_type": "code",
      "source": [
        "prediction.to_csv('predictions.csv')"
      ],
      "metadata": {
        "id": "cJARno99GWZ3"
      },
      "execution_count": 53,
      "outputs": []
    }
  ],
  "metadata": {
    "colab": {
      "collapsed_sections": [],
      "name": "Copy of youtube.ipynb",
      "provenance": []
    },
    "kernelspec": {
      "display_name": "Python 3",
      "name": "python3"
    },
    "language_info": {
      "name": "python"
    }
  },
  "nbformat": 4,
  "nbformat_minor": 0
}